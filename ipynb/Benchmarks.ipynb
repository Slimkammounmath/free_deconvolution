{
 "cells": [
  {
   "cell_type": "code",
   "execution_count": null,
   "metadata": {},
   "outputs": [],
   "source": [
    "import time\n",
    "import numpy as np\n",
    "import matplotlib.pyplot as plt\n",
    "\n",
    "N=666\n",
    "num_bins=50"
   ]
  },
  {
   "cell_type": "markdown",
   "metadata": {},
   "source": [
    "# I. Load and plot"
   ]
  },
  {
   "cell_type": "code",
   "execution_count": null,
   "metadata": {},
   "outputs": [],
   "source": [
    "# Loading data\n",
    "with open('first_kind.npy', 'rb') as f:\n",
    "    zeroes_first_kind = np.load(f)\n",
    "with open('second_kind.npy', 'rb') as f:\n",
    "    zeroes_second_kind = np.load(f)\n",
    "with open('critical_points.npy', 'rb') as f:\n",
    "    critical_points = np.load(f)\n",
    "with open('branch_points.npy', 'rb') as f:\n",
    "    branch_points = np.load(f)\n",
    "\n",
    "# Histogram of singular values\n",
    "fig, ax = plt.subplots()\n",
    "n, bins, patches = ax.hist(zeroes_first_kind, num_bins, density=True)\n",
    "ax.set_xlabel('Eigenvalues')\n",
    "ax.set_ylabel('Probability density')\n",
    "ax.set_title(r'Histogram of singular values for N={}'.format(N))\n",
    "fig.tight_layout()\n",
    "plt.show()"
   ]
  },
  {
   "cell_type": "code",
   "execution_count": null,
   "metadata": {},
   "outputs": [],
   "source": [
    "# Plotting critical points\n",
    "plt.figure( figsize=(20,10) )\n",
    "plt.scatter( np.real(critical_points), np.imag(critical_points), marker='*', c='g', label=f'Critical points (N-1={N-1})')\n",
    "plt.scatter( np.real(zeroes_first_kind), np.imag(zeroes_first_kind), marker='*', c='r', label=f'Eigenvalues (N={N})')\n",
    "plt.scatter( np.real(zeroes_second_kind), np.imag(zeroes_second_kind), marker='*', c='b', label=f'Zeroes of the second kind (N-1={N-1})')\n",
    "plt.title( 'Eigenvalues and critical points')\n",
    "plt.legend()\n",
    "plt.show()\n",
    "\n",
    "# Plotting branch points\n",
    "## Transport colors to uniform\n",
    "branch_points_color = np.abs( np.imag( critical_points ) )\n",
    "branch_points_color /= np.max( branch_points_color )\n",
    "uniform_sample = np.linspace( 0, 1, len(branch_points_color))\n",
    "sorted_indices = np.argsort( branch_points_color )\n",
    "branch_points_color = uniform_sample[ sorted_indices ]\n",
    "## Plots as usual\n",
    "plt.figure( figsize=(10,20) )\n",
    "plt.scatter( np.real(branch_points),  np.imag(branch_points), marker='*', c=branch_points_color, label=f'Branch points (N-1={N-1})')\n",
    "plt.scatter( np.real(branch_points), -np.imag(branch_points), marker='x', c=branch_points_color, label=f'(Conjugate) Branch points (N-1={N-1})')\n",
    "plt.title( 'Branch points $m = M_\\mu(z)$')\n",
    "plt.legend()\n",
    "plt.colorbar()\n",
    "plt.show()"
   ]
  },
  {
   "cell_type": "markdown",
   "metadata": {},
   "source": [
    "# II. Performance test when evaluating Stieljes transforms\n",
    "\n",
    "Here we compare numpy vs sympy. Although it may be true that symbolic computations\n",
    "using sympy might be slower, the question is to evaluate the overhead."
   ]
  },
  {
   "cell_type": "code",
   "execution_count": null,
   "metadata": {},
   "outputs": [],
   "source": [
    "def G_empirical(z):\n",
    "    array = z[...,None]-zeroes_first_kind[...,:]\n",
    "    return np.sum( 1/array, axis=-1)/len(zeroes_first_kind)\n",
    "\n",
    "def G_prime_empirical(z):\n",
    "    array = z[...,None]-zeroes_first_kind[...,:]\n",
    "    return np.sum( -1/(array*array), axis=-1)/len(zeroes_first_kind)\n",
    "\n",
    "def G_second_empirical(z):\n",
    "    array = z[...,None]-zeroes_first_kind[...,:]\n",
    "    return np.sum( 2/(array*array*array), axis=-1)/len(zeroes_first_kind)\n",
    "\n",
    "def M_empirical(z):\n",
    "    return z*G_empirical(z)-1\n",
    "\n",
    "def M_prime_empirical(z):\n",
    "    return z*G_prime_empirical(z) + G_empirical(z)\n",
    "\n",
    "def M_second_empirical(z):\n",
    "    return z*G_second_empirical(z) + 2*G_prime_empirical(z)"
   ]
  },
  {
   "cell_type": "code",
   "execution_count": null,
   "metadata": {},
   "outputs": [],
   "source": [
    "import sympy as sp\n",
    "\n",
    "z = sp.symbols(\"z\")\n",
    "sp_G_empirical = 0\n",
    "for zero in zeroes_first_kind:\n",
    "    sp_G_empirical = sp_G_empirical + 1/(z-zero)\n",
    "sp_G_empirical = sp_G_empirical/len(zeroes_first_kind)\n",
    "\n",
    "sp_M_empirical = z*sp_G_empirical - 1"
   ]
  },
  {
   "cell_type": "code",
   "execution_count": null,
   "metadata": {},
   "outputs": [],
   "source": [
    "# Test\n",
    "z0 = np.array( complex(1.0+1.0j) )\n",
    "print(z0)\n",
    "print( G_empirical(z0) )\n",
    "print( sp_G_empirical.subs(z, z0).evalf() )"
   ]
  },
  {
   "cell_type": "code",
   "execution_count": null,
   "metadata": {},
   "outputs": [],
   "source": [
    "# Benchmark\n",
    "points_counts = [10, 25, 50, 100]\n",
    "\n",
    "benchmark_results = {\n",
    "    'numpy_vectorized': [],\n",
    "    'numpy_loop': [],\n",
    "    'sympy': []\n",
    "}\n",
    "for count in points_counts:\n",
    "    print(f'''Running benchmark for {count} points...''')\n",
    "    points = np.linspace(0, 10, count)+1.0j\n",
    "\n",
    "    print( \"  |- Numpy benchmark (in a single vectorized call)...\")\n",
    "    start = time.time()\n",
    "    values = M_empirical( points )\n",
    "    end = time.time()\n",
    "    timing = end-start\n",
    "    benchmark_results[\"numpy_vectorized\"].append(timing)\n",
    "    print(\"  |- Total time: \", timing)\n",
    "\n",
    "    print( \"  |- Numpy benchmark (in a loop)...\")\n",
    "    start = time.time()\n",
    "    values_numpy = np.zeros_like( values )\n",
    "    for i in range( len(values_numpy) ):\n",
    "        values_numpy = M_empirical( points[i] )\n",
    "    end = time.time()\n",
    "    timing = end-start\n",
    "    benchmark_results[\"numpy_loop\"].append(timing)\n",
    "    print(\"  |- Total time: \", timing)\n",
    "\n",
    "    print( \"  |- Sympy benchmark...\")\n",
    "    start = time.time()\n",
    "    values_sympy = np.zeros_like( values )\n",
    "    for i in range( len(values_sympy) ):\n",
    "        values_sympy = sp_M_empirical.subs('z', points[i] ).evalf()\n",
    "    end = time.time()\n",
    "    timing = end-start\n",
    "    benchmark_results[\"sympy\"].append(timing)\n",
    "    print(\"  |- Total time: \", timing)\n",
    "\n",
    "    print(\"\")\n",
    "# End for\n",
    "\n",
    "# GOSH! Huge overhead!"
   ]
  },
  {
   "cell_type": "code",
   "execution_count": null,
   "metadata": {},
   "outputs": [],
   "source": []
  }
 ],
 "metadata": {
  "interpreter": {
   "hash": "31f2aee4e71d21fbe5cf8b01ff0e069b9275f58929596ceb00d14d90e3e16cd6"
  },
  "kernelspec": {
   "display_name": "Python 3",
   "language": "python",
   "name": "python3"
  },
  "language_info": {
   "codemirror_mode": {
    "name": "ipython",
    "version": 3
   },
   "file_extension": ".py",
   "mimetype": "text/x-python",
   "name": "python",
   "nbconvert_exporter": "python",
   "pygments_lexer": "ipython3",
   "version": "3.8.10"
  }
 },
 "nbformat": 4,
 "nbformat_minor": 2
}
