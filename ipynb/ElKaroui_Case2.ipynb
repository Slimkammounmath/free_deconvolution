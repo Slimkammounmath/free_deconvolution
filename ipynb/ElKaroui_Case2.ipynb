{
  "cells": [
    {
      "cell_type": "code",
      "execution_count": null,
      "id": "efb8a3e5",
      "metadata": {
        "id": "efb8a3e5"
      },
      "outputs": [],
      "source": [
        "import time\n",
        "import numpy as np\n",
        "import matplotlib.pyplot as plt\n",
        "from sympy import *\n",
        "\n",
        "N=500\n",
        "num_bins=20"
      ]
    },
    {
      "cell_type": "markdown",
      "id": "0067c608-9dfa-4b97-8fd1-00b7ee817771",
      "metadata": {
        "id": "0067c608-9dfa-4b97-8fd1-00b7ee817771"
      },
      "source": [
        "# I. Monte-Carlo for some multiplicative free convolutions.\n",
        "\n",
        "## I. 1. White case\n",
        "\n",
        "$$ \\frac{1}{2 \\pi} \\frac{\\sqrt{(x-l)(r-x)}}{x} dx ,$$\n",
        "where \n",
        "$$r = (1+\\sqrt{c})^2$$\n",
        "$$l = (1-\\sqrt{c})^2$$\n",
        "and $c$ being the scale parameter.\n",
        "\n"
      ]
    },
    {
      "cell_type": "code",
      "execution_count": null,
      "id": "62826f3c",
      "metadata": {
        "colab": {
          "base_uri": "https://localhost:8080/",
          "height": 314
        },
        "id": "62826f3c",
        "outputId": "b0876f35-ce58-42f0-d7d3-2a4116acd49b"
      },
      "outputs": [],
      "source": [
        "c = 0.3\n",
        "p = int(c*N)\n",
        "r = (1+np.sqrt(c))**2 #Right end\n",
        "l = (1-np.sqrt(c))**2 #Left end\n",
        "\n",
        "G = np.random.normal( size=(p, N) )\n",
        "W = G.dot( G.T )\n",
        "print(\" Shape of Wishart: \", W.shape)\n",
        "W = W/N\n",
        "diag, U = np.linalg.eig(W)\n",
        "diag = 1.0*np.sort( diag )\n",
        "\n",
        "# Histogram of singular values\n",
        "fig, ax = plt.subplots()\n",
        "n, bins, patches = ax.hist(diag, num_bins, density=True)\n",
        "y = np.sqrt( (r-bins)*(bins-l) )/(2*np.pi*bins*c) # Added extra c. I believe this is the c part of the mass, while (1-c) is a Dirac at zero\n",
        "ax.plot(bins, y, '--', linewidth=4)\n",
        "ax.set_xlabel('Eigenvalues')\n",
        "ax.set_ylabel('Probability density')\n",
        "ax.set_title(r'Histogram of singular values for N={}'.format(N))\n",
        "fig.tight_layout()\n",
        "plt.xlim(0,r+0.5)\n",
        "plt.show()"
      ]
    },
    {
      "cell_type": "markdown",
      "id": "55cd679e",
      "metadata": {},
      "source": [
        "## I.2. Three subpopulations"
      ]
    },
    {
      "cell_type": "code",
      "execution_count": null,
      "id": "42e04e77",
      "metadata": {},
      "outputs": [],
      "source": [
        "weights = np.array( [1, 1, 1] )\n",
        "weights = weights/np.sum( weights )\n",
        "support = np.array( [0.5, 1, 4] )\n",
        "\n",
        "population_cdf = np.cumsum( weights )\n",
        "\n",
        "c = 0.3\n",
        "p = int(c*N)\n",
        "population_matrix = np.zeros( (p,) )\n",
        "block_begin = 0\n",
        "for i in range( len(weights) ):\n",
        "    block_end = int( population_cdf[i]*p )\n",
        "    population_matrix[block_begin:block_end] = support[i]\n",
        "    block_begin = block_end\n",
        "\n",
        "G = np.random.normal( size=(p, N) )\n",
        "G = np.dot( np.diag( np.sqrt( population_matrix) ), G)\n",
        "W = G.dot( G.T )\n",
        "print(\" Shape of Wishart: \", W.shape)\n",
        "W = W/N\n",
        "diag, U = np.linalg.eig(W)\n",
        "diag = 1.0*np.sort( diag )\n",
        "\n",
        "# Histogram of singular values\n",
        "fig, ax = plt.subplots()\n",
        "n, bins, patches = ax.hist(diag, num_bins, density=True)\n",
        "ax.set_xlabel('Eigenvalues')\n",
        "ax.set_ylabel('Probability density')\n",
        "ax.set_title(r'Histogram of singular values for N={}'.format(N))\n",
        "fig.tight_layout()\n",
        "plt.xlim(0,np.max(diag)+0.5)\n",
        "plt.show()"
      ]
    },
    {
      "cell_type": "markdown",
      "id": "26280482",
      "metadata": {
        "id": "26280482"
      },
      "source": [
        "# II. Dictionnary build"
      ]
    },
    {
      "cell_type": "markdown",
      "id": "li2R9xzvNcYF",
      "metadata": {
        "id": "li2R9xzvNcYF"
      },
      "source": [
        "## II. 1. Following El Karoui: Fix  $\\nu_F(z_i)$ and compute $z_i$"
      ]
    },
    {
      "cell_type": "code",
      "execution_count": null,
      "id": "8a9063da",
      "metadata": {
        "colab": {
          "base_uri": "https://localhost:8080/",
          "height": 298
        },
        "id": "8a9063da",
        "outputId": "0c856668-b083-4384-d089-387a9bb58803"
      },
      "outputs": [],
      "source": [
        "nu = np.array( [complex(0.02*a,b) for a in range(0, 50) for b in [0.01,0.1]] )\n",
        "\n",
        "l1 = np.max( diag )\n",
        "lp = np.min( diag )\n",
        "print( \"Range of eigenvalues: \", lp, l1)\n",
        "\n",
        "plt.figure()\n",
        "plt.scatter( np.real(nu), np.imag(nu), marker='x')\n",
        "plt.title(\"nu chosen by El Karoui\")\n",
        "plt.show()\n",
        "\n",
        "diag_norm = diag/l1"
      ]
    },
    {
      "cell_type": "code",
      "execution_count": null,
      "id": "532eb5ee",
      "metadata": {
        "colab": {
          "base_uri": "https://localhost:8080/",
          "height": 283
        },
        "id": "532eb5ee",
        "outputId": "3a6834b9-063f-4c62-99ad-f6f1d47d3dc3",
        "scrolled": true
      },
      "outputs": [],
      "source": [
        "# Solve using inversion package\n",
        "import scipy.optimize as opt\n",
        "\n",
        "Z=[]\n",
        "for k in range(len(nu)):\n",
        "    def f(z):\n",
        "        z = complex(z[0],z[1])\n",
        "        stieljes   = np.sum(1/(diag-z))/len(diag)\n",
        "        expression = -(1-c)/z + c*stieljes - nu[k]\n",
        "        return((re(expression),im(expression)))\n",
        "    (r,i) = opt.fsolve(f,(1,1))\n",
        "    z = complex(r,i)\n",
        "    Z.append(z)\n",
        "Z = np.array( Z )\n",
        "#\n",
        "plt.figure()\n",
        "plt.scatter( np.real(Z), np.imag(Z), marker='x')\n",
        "plt.title(\"$z_j$ found by optimizer\")\n",
        "plt.show()"
      ]
    },
    {
      "cell_type": "code",
      "execution_count": null,
      "id": "9y1C5lcOh2bE",
      "metadata": {
        "colab": {
          "base_uri": "https://localhost:8080/"
        },
        "id": "9y1C5lcOh2bE",
        "outputId": "32e4c760-78b1-43d3-d463-8d8d5052807e"
      },
      "outputs": [],
      "source": [
        "# Check that optimization worked\n",
        "def stieltjes_check(z_array):\n",
        "    array = z_array[...,None]-diag[...,:]\n",
        "    return np.sum( -1/array, axis=-1)/len(diag)\n",
        "\n",
        "nu_check = -(1-c)/Z + c*stieltjes_check(Z)\n",
        "nu_errors = np.abs(nu - nu_check)\n",
        "bad_indices = np.where(nu_errors > 1e-5)[0]\n",
        "print( \"Bad indices:\", bad_indices )\n",
        "print( \"Values     :\", nu[bad_indices] )\n",
        "print( \"Max error  :\", np.max(nu_errors) )\n",
        "print( \"\" )\n",
        "\n",
        "# Clean-up if necessary\n",
        "if len(bad_indices):\n",
        "    print(\"Removing bad indices...\")\n",
        "    Z  = np.delete( Z , bad_indices )\n",
        "    nu = np.delete( nu, bad_indices)"
      ]
    },
    {
      "cell_type": "code",
      "execution_count": null,
      "id": "_d6L2vyRYBAM",
      "metadata": {
        "id": "_d6L2vyRYBAM"
      },
      "outputs": [],
      "source": [
        "dictionary = (Z, nu)"
      ]
    },
    {
      "cell_type": "markdown",
      "id": "6RybRximYwwI",
      "metadata": {
        "id": "6RybRximYwwI"
      },
      "source": [
        "## II.2. Fix $z_j$ and deduce $\\nu(z_j)$"
      ]
    },
    {
      "cell_type": "code",
      "execution_count": null,
      "id": "zVfowYX_MQ9K",
      "metadata": {
        "id": "zVfowYX_MQ9K"
      },
      "outputs": [],
      "source": [
        "def stieltjes(z_array):\n",
        "    array = z_array[...,None]-diag[...,:]\n",
        "    return np.sum( -1/array, axis=-1)/len(diag)"
      ]
    },
    {
      "cell_type": "code",
      "execution_count": null,
      "id": "mrU9jkEHZCbX",
      "metadata": {
        "id": "mrU9jkEHZCbX"
      },
      "outputs": [],
      "source": [
        "#Z = np.linspace(0.1, 1, 100) + (1e-2)*1.0j\n",
        "#plt.scatter( np.real(Z), np.imag(Z), marker='x')\n",
        "#plt.title(\"Z\")\n",
        "#plt.show()\n",
        "\n",
        "#nu = c*stieltjes(Z) - (1-c)*1/Z\n",
        "#plt.figure()\n",
        "#plt.scatter( np.real(nu), np.imag(nu), marker='x')\n",
        "#plt.title(\"nu\")\n",
        "#plt.show()\n"
      ]
    },
    {
      "cell_type": "code",
      "execution_count": null,
      "id": "O8Ohregvcz2I",
      "metadata": {
        "id": "O8Ohregvcz2I"
      },
      "outputs": [],
      "source": [
        "#errors = []\n",
        "#c_interval = np.linspace( 0.1, 3, 100)\n",
        "#for c in c_interval:\n",
        "#  error = np.linalg.norm(1/nu + Z - c*1/(1+nu))/len(Z)\n",
        "#  errors.append( error )\n",
        "#errors = np.array( errors )\n",
        "\n",
        "#plt.plot( c_interval, errors)\n",
        "#plt.title(\"Errors as a function of c\")\n",
        "#plt.ylim( (0, np.max(errors)))\n",
        "#plt.show()\n"
      ]
    },
    {
      "cell_type": "code",
      "execution_count": null,
      "id": "SYpyTa1Afv4Z",
      "metadata": {
        "id": "SYpyTa1Afv4Z"
      },
      "outputs": [],
      "source": [
        "#errors = []\n",
        "#pos_interval = np.linspace( 0.1, 3, 100)\n",
        "#for t in pos_interval:\n",
        "#  error = np.linalg.norm(1/nu + Z - (1/c)*t/(1+t*nu))/len(Z)\n",
        "#  errors.append( error )\n",
        "#errors = np.array( errors )\n",
        "\n",
        "#plt.plot( pos_interval, errors)\n",
        "#plt.title(\"Errors as a function of c\")\n",
        "#plt.ylim( (0, np.max(errors)))\n",
        "#plt.show()"
      ]
    },
    {
      "cell_type": "markdown",
      "id": "oUNbL0oYO2lL",
      "metadata": {
        "id": "oUNbL0oYO2lL"
      },
      "source": [
        "# III. Convex optimization"
      ]
    },
    {
      "cell_type": "code",
      "execution_count": null,
      "id": "4uZEW1xCFO2J",
      "metadata": {
        "id": "4uZEW1xCFO2J"
      },
      "outputs": [],
      "source": [
        "import cvxpy as cp\n",
        "\n",
        "def perform_cvx_optimization( dictionary, T, norm_type):\n",
        "  Z, nu  = dictionary\n",
        "  assert(len(Z) == len(nu))\n",
        "\n",
        "  print( \"Building cvxpy program...\" )\n",
        "  # Weights\n",
        "  W = cp.Variable(len(T),complex=False)\n",
        "  # Constrains\n",
        "  const=[]\n",
        "\n",
        "  # Form array of errors e_j's\n",
        "  e_array = []\n",
        "  for i in range(len(nu)):\n",
        "      # Does not work\n",
        "      # e = 1/nu[i] + Z[i] - c*sum([T[j]*W[j]/(1+T[j]*nu[i]) for j in range(len(T)) ])\n",
        "      # Strangely works ==> cvxpy has a bad overloading of operators * / + - ?\n",
        "      integrand = T/(1+T*nu[i])\n",
        "      summand   = [ W[j]*integrand[j] for j in range(len(T)) ]\n",
        "      e_i = 1/nu[i] + Z[i] - c*sum(summand)\n",
        "      e_array.append( e_i )\n",
        "  e_vector = cp.bmat( [e_array] )\n",
        "\n",
        "  # Form objective\n",
        "  if norm_type=='linfty':\n",
        "    # Mute variable for minimization\n",
        "    u = cp.Variable(1)\n",
        "    objective= cp.Minimize(u)\n",
        "    for e in e_array:\n",
        "        const.append(cp.real(e)<=u)\n",
        "        const.append(cp.real(e)>=-u)\n",
        "        const.append(cp.imag(e)<=u)\n",
        "        const.append(cp.imag(e)>=-u)\n",
        "    # end for\n",
        "  elif norm_type=='l1':\n",
        "    #e = sum( [ cp.abs(e_j) for e_j in e_array ] )/len(nu)\n",
        "    e = cp.norm1( e_vector )/len(nu)\n",
        "    objective = cp.Minimize(e)\n",
        "  elif norm_type=='l2':\n",
        "    e = cp.norm2( cp.abs(e_vector) )/np.sqrt( len(nu) )\n",
        "    objective = cp.Minimize(e)\n",
        "\n",
        "  # Final constrains\n",
        "  const.append(W>=0)\n",
        "  const.append(sum(W)==1)\n",
        "\n",
        "  print( \"Solving the convex problem...\")\n",
        "  problem = cp.Problem(objective, const)\n",
        "  result  = problem.solve(verbose=True)\n",
        "\n",
        "  return W.value, objective.value"
      ]
    },
    {
      "cell_type": "markdown",
      "id": "w7eAE5gnQxKt",
      "metadata": {
        "id": "w7eAE5gnQxKt"
      },
      "source": [
        "## III. 1. $l^\\infty$ norm"
      ]
    },
    {
      "cell_type": "code",
      "execution_count": null,
      "id": "InalifzTXcJe",
      "metadata": {
        "colab": {
          "base_uri": "https://localhost:8080/",
          "height": 854
        },
        "id": "InalifzTXcJe",
        "outputId": "42771f7c-5a34-4927-82f2-fd89e7061ce3"
      },
      "outputs": [],
      "source": [
        "# Support\n",
        "T = np.arange(0, 6, 0.03)\n",
        "# Perform optimization\n",
        "weights, objective_value = perform_cvx_optimization( dictionary, T, 'linfty')\n",
        "# Plots\n",
        "print(\"Found objective value: \", objective_value)\n",
        "plt.figure()\n",
        "plt.plot( T,np.cumsum(weights))\n",
        "plt.title(\"CDF of population matrix\")\n",
        "plt.ylim( (-0.1,1.1) )\n",
        "plt.show()\n"
      ]
    },
    {
      "cell_type": "markdown",
      "id": "iALnhDI-RN8y",
      "metadata": {
        "id": "iALnhDI-RN8y"
      },
      "source": [
        "## III. 2. $l^1$ norm"
      ]
    },
    {
      "cell_type": "code",
      "execution_count": null,
      "id": "Yv67aSUlxUxc",
      "metadata": {
        "colab": {
          "base_uri": "https://localhost:8080/",
          "height": 854
        },
        "id": "Yv67aSUlxUxc",
        "outputId": "677e22e8-1d43-47ea-f029-0de7f2301191"
      },
      "outputs": [],
      "source": [
        "# Support\n",
        "T = np.arange(0, 6, 0.03)\n",
        "# Perform optimization\n",
        "weights, objective_value = perform_cvx_optimization( dictionary, T, 'l1')\n",
        "# Plots\n",
        "print(\"Found objective value: \", objective_value)\n",
        "plt.figure()\n",
        "plt.plot( T,np.cumsum(weights))\n",
        "plt.title(\"CDF of population matrix\")\n",
        "plt.ylim( (-0.1,1.1) )\n",
        "plt.show()"
      ]
    },
    {
      "cell_type": "markdown",
      "id": "xK117v9i07PH",
      "metadata": {
        "id": "xK117v9i07PH"
      },
      "source": [
        "## III. 3. $l^2$ norm"
      ]
    },
    {
      "cell_type": "code",
      "execution_count": null,
      "id": "tHQ0izqE0xNq",
      "metadata": {
        "colab": {
          "base_uri": "https://localhost:8080/",
          "height": 889
        },
        "id": "tHQ0izqE0xNq",
        "outputId": "1d178c5a-2193-4d81-929f-d151c41bb5d2"
      },
      "outputs": [],
      "source": [
        "# Support\n",
        "T = np.arange(0, 6, 0.03)\n",
        "# Perform optimization\n",
        "weights, objective_value = perform_cvx_optimization( dictionary, T, 'l2')\n",
        "# Plots\n",
        "print(\"Found objective value: \", objective_value)\n",
        "plt.figure()\n",
        "plt.plot( T,np.cumsum(weights))\n",
        "plt.title(\"CDF of population matrix\")\n",
        "plt.ylim( (-0.1,1.1) )\n",
        "plt.show()"
      ]
    },
    {
      "cell_type": "code",
      "execution_count": null,
      "id": "bfixNQdP0zBK",
      "metadata": {
        "id": "bfixNQdP0zBK"
      },
      "outputs": [],
      "source": []
    }
  ],
  "metadata": {
    "colab": {
      "collapsed_sections": [
        "6RybRximYwwI"
      ],
      "name": "Shared_ElKaroui3.ipynb",
      "provenance": []
    },
    "kernelspec": {
      "display_name": "Python 3.8.12 ('.venv_freeDeconv': venv)",
      "language": "python",
      "name": "python3"
    },
    "language_info": {
      "codemirror_mode": {
        "name": "ipython",
        "version": 3
      },
      "file_extension": ".py",
      "mimetype": "text/x-python",
      "name": "python",
      "nbconvert_exporter": "python",
      "pygments_lexer": "ipython3",
      "version": "3.8.12"
    },
    "vscode": {
      "interpreter": {
        "hash": "b113a8579add5faf2f9ec67743fdef082f8321b29ee44c1abb0637b90b3b7daf"
      }
    }
  },
  "nbformat": 4,
  "nbformat_minor": 5
}
