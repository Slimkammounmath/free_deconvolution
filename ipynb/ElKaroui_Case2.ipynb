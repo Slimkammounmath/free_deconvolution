{
  "cells": [
    {
      "cell_type": "code",
      "execution_count": 3,
      "id": "efb8a3e5",
      "metadata": {
        "id": "efb8a3e5"
      },
      "outputs": [],
      "source": [
        "import time\n",
        "import numpy as np\n",
        "import matplotlib.pyplot as plt\n",
        "from sympy import *\n",
        "\n",
        "N=500\n",
        "num_bins=20"
      ]
    },
    {
      "cell_type": "markdown",
      "id": "0067c608-9dfa-4b97-8fd1-00b7ee817771",
      "metadata": {
        "id": "0067c608-9dfa-4b97-8fd1-00b7ee817771"
      },
      "source": [
        "# I. Monte-Carlo for some multiplicative free convolutions.\n",
        "\n",
        "## I. 1. White case\n",
        "\n",
        "$$ \\frac{1}{2 \\pi} \\frac{\\sqrt{(x-l)(r-x)}}{x} dx ,$$\n",
        "where \n",
        "$$r = (1+\\sqrt{c})^2$$\n",
        "$$l = (1-\\sqrt{c})^2$$\n",
        "and $c$ being the scale parameter.\n",
        "\n"
      ]
    },
    {
      "cell_type": "code",
      "execution_count": 4,
      "id": "62826f3c",
      "metadata": {
        "colab": {
          "base_uri": "https://localhost:8080/",
          "height": 314
        },
        "id": "62826f3c",
        "outputId": "b0876f35-ce58-42f0-d7d3-2a4116acd49b"
      },
      "outputs": [
        {
          "name": "stdout",
          "output_type": "stream",
          "text": [
            " Shape of Wishart:  (150, 150)\n"
          ]
        },
        {
          "name": "stderr",
          "output_type": "stream",
          "text": [
            "/tmp/ipykernel_55437/1272017483.py:16: RuntimeWarning: invalid value encountered in sqrt\n",
            "  y = np.sqrt( (r-bins)*(bins-l) )/(2*np.pi*bins*c) # Added extra c. I believe this is the c part of the mass, while (1-c) is a Dirac at zero\n"
          ]
        },
        {
          "data": {
            "image/png": "[encoded data removed]",
            "text/plain": [
              "<Figure size 432x288 with 1 Axes>"
            ]
          },
          "metadata": {
            "needs_background": "light"
          },
          "output_type": "display_data"
        }
      ],
      "source": [
        "c = 0.3\n",
        "p = int(c*N)\n",
        "r = (1+np.sqrt(c))**2 #Right end\n",
        "l = (1-np.sqrt(c))**2 #Left end\n",
        "\n",
        "G = np.random.normal( size=(p, N) )\n",
        "W = G.dot( G.T )\n",
        "print(\" Shape of Wishart: \", W.shape)\n",
        "W = W/N\n",
        "diag, U = np.linalg.eig(W)\n",
        "diag = 1.0*np.sort( diag )\n",
        "\n",
        "# Histogram of singular values\n",
        "fig, ax = plt.subplots()\n",
        "n, bins, patches = ax.hist(diag, num_bins, density=True)\n",
        "y = np.sqrt( (r-bins)*(bins-l) )/(2*np.pi*bins*c) # Added extra c. I believe this is the c part of the mass, while (1-c) is a Dirac at zero\n",
        "ax.plot(bins, y, '--', linewidth=4)\n",
        "ax.set_xlabel('Eigenvalues')\n",
        "ax.set_ylabel('Probability density')\n",
        "ax.set_title(r'Histogram of singular values for N={}'.format(N))\n",
        "fig.tight_layout()\n",
        "plt.xlim(0,r+0.5)\n",
        "plt.show()"
      ]
    },
    {
      "cell_type": "markdown",
      "id": "55cd679e",
      "metadata": {},
      "source": [
        "## I.2. Three subpopulations"
      ]
    },
    {
      "cell_type": "code",
      "execution_count": 5,
      "id": "42e04e77",
      "metadata": {},
      "outputs": [
        {
          "name": "stdout",
          "output_type": "stream",
          "text": [
            " Shape of Wishart:  (150, 150)\n"
          ]
        },
        {
          "data": {
            "image/png": "[encoded data removed]",
            "text/plain": [
              "<Figure size 432x288 with 1 Axes>"
            ]
          },
          "metadata": {
            "needs_background": "light"
          },
          "output_type": "display_data"
        }
      ],
      "source": [
        "weights = np.array( [1, 1, 1] )\n",
        "weights = weights/np.sum( weights )\n",
        "support = np.array( [0.5, 1, 4] )\n",
        "\n",
        "population_cdf = np.cumsum( weights )\n",
        "\n",
        "c = 0.3\n",
        "p = int(c*N)\n",
        "population_matrix = np.zeros( (p,) )\n",
        "block_begin = 0\n",
        "for i in range( len(weights) ):\n",
        "    block_end = int( population_cdf[i]*p )\n",
        "    population_matrix[block_begin:block_end] = support[i]\n",
        "    block_begin = block_end\n",
        "\n",
        "G = np.random.normal( size=(p, N) )\n",
        "G = np.dot( np.diag( np.sqrt( population_matrix) ), G)\n",
        "W = G.dot( G.T )\n",
        "print(\" Shape of Wishart: \", W.shape)\n",
        "W = W/N\n",
        "diag, U = np.linalg.eig(W)\n",
        "diag = 1.0*np.sort( diag )\n",
        "\n",
        "# Histogram of singular values\n",
        "fig, ax = plt.subplots()\n",
        "n, bins, patches = ax.hist(diag, num_bins, density=True)\n",
        "ax.set_xlabel('Eigenvalues')\n",
        "ax.set_ylabel('Probability density')\n",
        "ax.set_title(r'Histogram of singular values for N={}'.format(N))\n",
        "fig.tight_layout()\n",
        "plt.xlim(0,np.max(diag)+0.5)\n",
        "plt.show()"
      ]
    },
    {
      "cell_type": "markdown",
      "id": "26280482",
      "metadata": {
        "id": "26280482"
      },
      "source": [
        "# II. Dictionnary build"
      ]
    },
    {
      "cell_type": "markdown",
      "id": "li2R9xzvNcYF",
      "metadata": {
        "id": "li2R9xzvNcYF"
      },
      "source": [
        "## II. 1. Following El Karoui: Fix  $\\nu_F(z_i)$ and compute $z_i$"
      ]
    },
    {
      "cell_type": "code",
      "execution_count": 6,
      "id": "8a9063da",
      "metadata": {
        "colab": {
          "base_uri": "https://localhost:8080/",
          "height": 298
        },
        "id": "8a9063da",
        "outputId": "0c856668-b083-4384-d089-387a9bb58803"
      },
      "outputs": [
        {
          "name": "stdout",
          "output_type": "stream",
          "text": [
            "Range of eigenvalues:  0.17143493486366462 6.935320820423748\n"
          ]
        },
        {
          "data": {
            "image/png": "[encoded data removed]",
            "text/plain": [
              "<Figure size 432x288 with 1 Axes>"
            ]
          },
          "metadata": {
            "needs_background": "light"
          },
          "output_type": "display_data"
        }
      ],
      "source": [
        "nu = np.array( [complex(0.02*a,b) for a in range(0, 50) for b in [0.01,0.1]] )\n",
        "\n",
        "l1 = np.max( diag )\n",
        "lp = np.min( diag )\n",
        "print( \"Range of eigenvalues: \", lp, l1)\n",
        "\n",
        "plt.figure()\n",
        "plt.scatter( np.real(nu), np.imag(nu), marker='x')\n",
        "plt.title(\"nu chosen by El Karoui\")\n",
        "plt.show()\n",
        "\n",
        "diag_norm = diag/l1"
      ]
    },
    {
      "cell_type": "code",
      "execution_count": 9,
      "id": "532eb5ee",
      "metadata": {
        "colab": {
          "base_uri": "https://localhost:8080/",
          "height": 283
        },
        "id": "532eb5ee",
        "outputId": "3a6834b9-063f-4c62-99ad-f6f1d47d3dc3",
        "scrolled": true
      },
      "outputs": [
        {
          "data": {
            "image/png": "[encoded data removed]",
            "text/plain": [
              "<Figure size 432x288 with 1 Axes>"
            ]
          },
          "metadata": {
            "needs_background": "light"
          },
          "output_type": "display_data"
        }
      ],
      "source": [
        "# Solve using inversion package\n",
        "import scipy.optimize as opt\n",
        "\n",
        "Z=[]\n",
        "for k in range(len(nu)):\n",
        "    def f(z):\n",
        "        z = complex(z[0],z[1])\n",
        "        stieljes   = np.sum(1/(diag-z))/len(diag)\n",
        "        expression = -(1-c)/z + c*stieljes - nu[k]\n",
        "        return((re(expression),im(expression)))\n",
        "    (r,i) = opt.fsolve(f,(1,1))\n",
        "    z = complex(r,i)\n",
        "    Z.append(z)\n",
        "Z = np.array( Z )\n",
        "#\n",
        "plt.figure()\n",
        "plt.scatter( np.real(Z), np.imag(Z), marker='x')\n",
        "plt.title(\"$z_j$ found by optimizer\")\n",
        "plt.show()"
      ]
    },
    {
      "cell_type": "code",
      "execution_count": 10,
      "id": "9y1C5lcOh2bE",
      "metadata": {
        "colab": {
          "base_uri": "https://localhost:8080/"
        },
        "id": "9y1C5lcOh2bE",
        "outputId": "32e4c760-78b1-43d3-d463-8d8d5052807e"
      },
      "outputs": [
        {
          "name": "stdout",
          "output_type": "stream",
          "text": [
            "Bad indices: []\n",
            "Values     : []\n",
            "Max error  : 3.601786000121454e-11\n",
            "\n"
          ]
        }
      ],
      "source": [
        "# Check that optimization worked\n",
        "def stieltjes_check(z_array):\n",
        "    array = z_array[...,None]-diag[...,:]\n",
        "    return np.sum( -1/array, axis=-1)/len(diag)\n",
        "\n",
        "nu_check = -(1-c)/Z + c*stieltjes_check(Z)\n",
        "nu_errors = np.abs(nu - nu_check)\n",
        "bad_indices = np.where(nu_errors > 1e-5)[0]\n",
        "print( \"Bad indices:\", bad_indices )\n",
        "print( \"Values     :\", nu[bad_indices] )\n",
        "print( \"Max error  :\", np.max(nu_errors) )\n",
        "print( \"\" )\n",
        "\n",
        "# Clean-up if necessary\n",
        "if len(bad_indices):\n",
        "    print(\"Removing bad indices...\")\n",
        "    Z  = np.delete( Z , bad_indices )\n",
        "    nu = np.delete( nu, bad_indices)"
      ]
    },
    {
      "cell_type": "code",
      "execution_count": 11,
      "id": "_d6L2vyRYBAM",
      "metadata": {
        "id": "_d6L2vyRYBAM"
      },
      "outputs": [],
      "source": [
        "dictionary = (Z, nu)"
      ]
    },
    {
      "cell_type": "markdown",
      "id": "6RybRximYwwI",
      "metadata": {
        "id": "6RybRximYwwI"
      },
      "source": [
        "## II.2. Fix $z_j$ and deduce $\\nu(z_j)$"
      ]
    },
    {
      "cell_type": "code",
      "execution_count": 13,
      "id": "zVfowYX_MQ9K",
      "metadata": {
        "id": "zVfowYX_MQ9K"
      },
      "outputs": [],
      "source": [
        "def stieltjes(z_array):\n",
        "    array = z_array[...,None]-diag[...,:]\n",
        "    return np.sum( -1/array, axis=-1)/len(diag)"
      ]
    },
    {
      "cell_type": "code",
      "execution_count": 14,
      "id": "mrU9jkEHZCbX",
      "metadata": {
        "id": "mrU9jkEHZCbX"
      },
      "outputs": [],
      "source": [
        "#Z = np.linspace(0.1, 1, 100) + (1e-2)*1.0j\n",
        "#plt.scatter( np.real(Z), np.imag(Z), marker='x')\n",
        "#plt.title(\"Z\")\n",
        "#plt.show()\n",
        "\n",
        "#nu = c*stieltjes(Z) - (1-c)*1/Z\n",
        "#plt.figure()\n",
        "#plt.scatter( np.real(nu), np.imag(nu), marker='x')\n",
        "#plt.title(\"nu\")\n",
        "#plt.show()\n"
      ]
    },
    {
      "cell_type": "code",
      "execution_count": 15,
      "id": "O8Ohregvcz2I",
      "metadata": {
        "id": "O8Ohregvcz2I"
      },
      "outputs": [],
      "source": [
        "#errors = []\n",
        "#c_interval = np.linspace( 0.1, 3, 100)\n",
        "#for c in c_interval:\n",
        "#  error = np.linalg.norm(1/nu + Z - c*1/(1+nu))/len(Z)\n",
        "#  errors.append( error )\n",
        "#errors = np.array( errors )\n",
        "\n",
        "#plt.plot( c_interval, errors)\n",
        "#plt.title(\"Errors as a function of c\")\n",
        "#plt.ylim( (0, np.max(errors)))\n",
        "#plt.show()\n"
      ]
    },
    {
      "cell_type": "code",
      "execution_count": 16,
      "id": "SYpyTa1Afv4Z",
      "metadata": {
        "id": "SYpyTa1Afv4Z"
      },
      "outputs": [],
      "source": [
        "#errors = []\n",
        "#pos_interval = np.linspace( 0.1, 3, 100)\n",
        "#for t in pos_interval:\n",
        "#  error = np.linalg.norm(1/nu + Z - (1/c)*t/(1+t*nu))/len(Z)\n",
        "#  errors.append( error )\n",
        "#errors = np.array( errors )\n",
        "\n",
        "#plt.plot( pos_interval, errors)\n",
        "#plt.title(\"Errors as a function of c\")\n",
        "#plt.ylim( (0, np.max(errors)))\n",
        "#plt.show()"
      ]
    },
    {
      "cell_type": "markdown",
      "id": "oUNbL0oYO2lL",
      "metadata": {
        "id": "oUNbL0oYO2lL"
      },
      "source": [
        "# III. Convex optimization"
      ]
    },
    {
      "cell_type": "code",
      "execution_count": 17,
      "id": "p9wQNKcJ8Lqh",
      "metadata": {
        "id": "p9wQNKcJ8Lqh"
      },
      "outputs": [],
      "source": [
        "import cvxpy as cp\n",
        "\n",
        "def perform_cvx_optimization( dictionary, T, norm_type):\n",
        "  Z, nu  = dictionary\n",
        "  assert(len(Z) == len(nu))\n",
        "\n",
        "  print( \"Building cvxpy program...\" )\n",
        "  # Weights\n",
        "  W = cp.Variable(len(T),complex=False)\n",
        "  # Contrains\n",
        "  const=[]\n",
        "\n",
        "  # Form array of errors e_j's\n",
        "  e_array = []\n",
        "  for i in range(len(nu)):\n",
        "      # Does not work\n",
        "      # e = 1/nu[i] + Z[i] - c*sum([T[j]*W[j]/(1+T[j]*nu[i]) for j in range(len(T)) ])\n",
        "      # Strangely works ==> cvxpy has a bad overloading of operators * / + - ?\n",
        "      integrand = T/(1+T*nu[i])\n",
        "      summand   = [ W[j]*integrand[j] for j in range(len(T)) ]\n",
        "      e_j = 1/nu[i] + Z[i] - c*sum(summand)\n",
        "      e_array.append( e_j )\n",
        "\n",
        "  if norm_type=='linfty':\n",
        "    # Mute variable for minimization\n",
        "    u = cp.Variable(1)\n",
        "    objective= cp.Minimize(u)\n",
        "    for e in e_array:\n",
        "        const.append(cp.real(e)<=u)\n",
        "        const.append(cp.real(e)>=-u)\n",
        "        const.append(cp.imag(e)<=u)\n",
        "        const.append(cp.imag(e)>=-u)\n",
        "    # end for\n",
        "  elif norm_type=='l1':\n",
        "    e = sum( [ cp.abs(e_j) for e_j in e_array ] )/len(e_array)\n",
        "    objective= cp.Minimize(e)\n",
        "  elif norm_type=='l2':\n",
        "    # Accumulate error\n",
        "    e=0\n",
        "    e_array = []\n",
        "    for i in range(len(nu)):\n",
        "        # Does not work\n",
        "        # e = 1/nu[i] + Z[i] - c*sum([T[j]*W[j]/(1+T[j]*nu[i]) for j in range(len(T)) ])\n",
        "        # Strangely works ==> cvxpy has a bad overloading of operators * / + - ?\n",
        "        integrand = T/(1+T*nu[i])\n",
        "        summand   = [ W[j]*integrand[j] for j in range(len(T)) ]\n",
        "        e_j = 1/nu[i] + Z[i] - c*sum(summand)\n",
        "        e += cp.abs( e_j*cp.conj( e_j ) )\n",
        "    # end for\n",
        "    objective= cp.Minimize(e)\n",
        "\n",
        "  # Final constrains\n",
        "  const.append(W>=0)\n",
        "  const.append(sum(W)==1)\n",
        "\n",
        "  print( \"Solving the convex problem...\")\n",
        "  problem = cp.Problem(objective, const)\n",
        "  result  = problem.solve(verbose=True)\n",
        "\n",
        "  return W.value, objective.value\n"
      ]
    },
    {
      "cell_type": "code",
      "execution_count": 24,
      "id": "4uZEW1xCFO2J",
      "metadata": {
        "id": "4uZEW1xCFO2J"
      },
      "outputs": [],
      "source": [
        "import cvxpy as cp\n",
        "\n",
        "def perform_cvx_optimization( dictionary, T, norm_type):\n",
        "  Z, nu  = dictionary\n",
        "  assert(len(Z) == len(nu))\n",
        "\n",
        "  print( \"Building cvxpy program...\" )\n",
        "  # Weights\n",
        "  W = cp.Variable(len(T),complex=False)\n",
        "  # Constrains\n",
        "  const=[]\n",
        "\n",
        "  # Form array of errors e_j's\n",
        "  e_array = []\n",
        "  for i in range(len(nu)):\n",
        "      # Does not work\n",
        "      # e = 1/nu[i] + Z[i] - c*sum([T[j]*W[j]/(1+T[j]*nu[i]) for j in range(len(T)) ])\n",
        "      # Strangely works ==> cvxpy has a bad overloading of operators * / + - ?\n",
        "      integrand = T/(1+T*nu[i])\n",
        "      summand   = [ W[j]*integrand[j] for j in range(len(T)) ]\n",
        "      e_i = 1/nu[i] + Z[i] - c*sum(summand)\n",
        "      e_array.append( e_i )\n",
        "  e_vector = cp.bmat( [e_array] )\n",
        "\n",
        "  # Form objective\n",
        "  if norm_type=='linfty':\n",
        "    # Mute variable for minimization\n",
        "    u = cp.Variable(1)\n",
        "    objective= cp.Minimize(u)\n",
        "    for e in e_array:\n",
        "        const.append(cp.real(e)<=u)\n",
        "        const.append(cp.real(e)>=-u)\n",
        "        const.append(cp.imag(e)<=u)\n",
        "        const.append(cp.imag(e)>=-u)\n",
        "    # end for\n",
        "  elif norm_type=='l1':\n",
        "    #e = sum( [ cp.abs(e_j) for e_j in e_array ] )/len(nu)\n",
        "    e = cp.norm1( e_vector )/len(nu)\n",
        "    objective = cp.Minimize(e)\n",
        "  elif norm_type=='l2':\n",
        "    e = cp.norm2( cp.abs(e_vector) )/np.sqrt( len(nu) )\n",
        "    objective = cp.Minimize(e)\n",
        "\n",
        "  # Final constrains\n",
        "  const.append(W>=0)\n",
        "  const.append(sum(W)==1)\n",
        "\n",
        "  print( \"Solving the convex problem...\")\n",
        "  problem = cp.Problem(objective, const)\n",
        "  result  = problem.solve(verbose=True)\n",
        "\n",
        "  return W.value, objective.value"
      ]
    },
    {
      "cell_type": "markdown",
      "id": "w7eAE5gnQxKt",
      "metadata": {
        "id": "w7eAE5gnQxKt"
      },
      "source": [
        "## III. 1. $l^\\infty$ norm"
      ]
    },
    {
      "cell_type": "code",
      "execution_count": 25,
      "id": "InalifzTXcJe",
      "metadata": {
        "colab": {
          "base_uri": "https://localhost:8080/",
          "height": 854
        },
        "id": "InalifzTXcJe",
        "outputId": "42771f7c-5a34-4927-82f2-fd89e7061ce3"
      },
      "outputs": [
        {
          "name": "stdout",
          "output_type": "stream",
          "text": [
            "Building cvxpy program...\n",
            "Solving the convex problem...\n",
            "===============================================================================\n",
            "                                     CVXPY                                     \n",
            "                                     v1.2.1                                    \n",
            "===============================================================================\n",
            "(CVXPY) Aug 06 09:39:20 PM: Your problem has 201 variables, 386 constraints, and 0 parameters.\n",
            "(CVXPY) Aug 06 09:39:20 PM: It is compliant with the following grammars: DCP, DQCP\n",
            "(CVXPY) Aug 06 09:39:20 PM: (If you need to solve this problem multiple times, but with different data, consider using parameters.)\n",
            "(CVXPY) Aug 06 09:39:20 PM: CVXPY will first compile your problem; then, it will invoke a numerical solver to obtain a solution.\n",
            "-------------------------------------------------------------------------------\n",
            "                                  Compilation                                  \n",
            "-------------------------------------------------------------------------------\n",
            "(CVXPY) Aug 06 09:39:21 PM: Compiling problem (target solver=ECOS).\n",
            "(CVXPY) Aug 06 09:39:21 PM: Reduction chain: Complex2Real -> Dcp2Cone -> CvxAttr2Constr -> ConeMatrixStuffing -> ECOS\n",
            "(CVXPY) Aug 06 09:39:21 PM: Applying reduction Complex2Real\n",
            "(CVXPY) Aug 06 09:39:24 PM: Applying reduction Dcp2Cone\n",
            "(CVXPY) Aug 06 09:39:28 PM: Applying reduction CvxAttr2Constr\n",
            "(CVXPY) Aug 06 09:39:29 PM: Applying reduction ConeMatrixStuffing\n",
            "(CVXPY) Aug 06 09:39:35 PM: Applying reduction ECOS\n",
            "(CVXPY) Aug 06 09:39:35 PM: Finished problem compilation (took 1.484e+01 seconds).\n",
            "-------------------------------------------------------------------------------\n",
            "                                Numerical solver                               \n",
            "-------------------------------------------------------------------------------\n",
            "(CVXPY) Aug 06 09:39:35 PM: Invoking solver ECOS  to obtain a solution.\n",
            "\n",
            "ECOS 2.0.10 - (C) embotech GmbH, Zurich Switzerland, 2012-15. Web: www.embotech.com/ECOS\n",
            "\n",
            "It     pcost       dcost      gap   pres   dres    k/t    mu     step   sigma     IR    |   BT\n",
            " 0  +0.000e+00  -0.000e+00  +6e+02  9e-01  2e+01  1e+00  1e+00    ---    ---    1  1  - |  -  - \n",
            " 1  +7.310e-02  -6.740e-02  +4e+02  1e-01  3e+00  2e-03  7e-01  0.4917  3e-01   1  1  1 |  0  0\n",
            " 2  +6.298e-05  +4.632e-03  +3e+02  6e-03  2e-01  1e-02  6e-01  0.1793  9e-01   1  1  1 |  0  0\n",
            " 3  +8.416e-04  +8.760e-05  +8e+01  5e-04  3e-02  1e-04  1e-01  0.9305  1e-01   1  1  1 |  0  0\n",
            " 4  +8.262e-04  +1.189e-04  +7e+01  5e-04  2e-02  1e-04  1e-01  0.2666  7e-01   1  1  1 |  0  0\n",
            " 5  +2.186e-04  +8.133e-05  +2e+01  7e-05  4e-03  2e-05  3e-02  0.8196  7e-02   1  1  1 |  0  0\n",
            " 6  +1.064e-04  +1.663e-05  +1e+01  3e-05  2e-03  7e-06  2e-02  0.7423  5e-01   2  2  2 |  0  0\n",
            " 7  +3.631e-05  +6.665e-06  +3e+00  1e-05  7e-04  2e-06  6e-03  0.6731  2e-02   1  1  1 |  0  0\n",
            " 8  +3.505e-05  +5.514e-06  +3e+00  1e-05  7e-04  2e-06  6e-03  0.0450  9e-01   1  2  2 |  0  0\n",
            " 9  +1.235e-05  -3.406e-07  +1e+00  4e-06  3e-04  5e-07  3e-03  0.7931  3e-01   1  1  2 |  0  0\n",
            "10  +1.329e-05  +2.059e-06  +1e+00  4e-06  2e-04  3e-07  2e-03  0.4098  7e-01   2  2  2 |  0  0\n",
            "11  +6.346e-06  +2.532e-06  +4e-01  1e-06  7e-05  9e-08  8e-04  0.6856  4e-02   2  2  2 |  0  0\n",
            "12  +4.847e-06  +1.646e-06  +4e-01  1e-06  6e-05  6e-08  6e-04  0.3812  6e-01   2  2  2 |  0  0\n",
            "13  +1.476e-06  +4.604e-07  +1e-01  3e-07  2e-05  2e-08  2e-04  0.7382  7e-02   2  2  2 |  0  0\n",
            "14  +6.271e-07  +1.769e-07  +5e-02  1e-07  7e-06  4e-09  9e-05  0.8416  3e-01   2  2  2 |  0  0\n",
            "15  +6.535e-07  +2.066e-07  +5e-02  1e-07  7e-06  4e-09  9e-05  0.0446  8e-01   3  3  3 |  0  0\n",
            "16  +6.404e-07  +2.885e-07  +4e-02  8e-08  4e-06  3e-09  7e-05  0.3406  4e-01   2  2  2 |  0  0\n",
            "17  +4.998e-07  +3.631e-07  +2e-02  3e-08  1e-06  1e-09  3e-05  0.8159  2e-01   3  3  3 |  0  0\n",
            "18  +5.148e-07  +4.083e-07  +1e-02  2e-08  8e-07  7e-10  2e-05  0.4344  5e-01   3  2  2 |  0  0\n",
            "19  +4.869e-07  +4.607e-07  +3e-03  5e-09  1e-07  2e-10  5e-06  0.8579  1e-01   3  3  3 |  0  0\n",
            "20  +4.838e-07  +4.739e-07  +1e-03  2e-09  5e-08  6e-11  2e-06  0.8069  2e-01   3  3  3 |  0  0\n",
            "21  +4.838e-07  +4.821e-07  +2e-04  3e-10  9e-09  1e-11  3e-07  0.8670  3e-02   4  3  3 |  0  0\n",
            "22  +4.849e-07  +4.847e-07  +3e-05  4e-11  1e-09  2e-12  5e-08  0.9703  1e-01   4  3  3 |  0  0\n",
            "23  +4.850e-07  +4.849e-07  +8e-06  2e-11  4e-10  6e-13  1e-08  0.7523  8e-02   4  3  3 |  0  0\n",
            "24  +4.849e-07  +4.848e-07  +5e-06  1e-11  2e-10  4e-13  8e-09  0.6590  3e-01   3  3  3 |  0  0\n",
            "25  +4.846e-07  +4.846e-07  +3e-06  6e-12  1e-10  2e-13  5e-09  0.9890  5e-01   3  2  2 |  0  0\n",
            "26  +4.844e-07  +4.844e-07  +2e-07  2e-12  7e-12  9e-15  3e-10  0.9890  3e-02   3  2  2 |  0  0\n",
            "27  +4.844e-07  +4.844e-07  +4e-09  1e-13  6e-13  3e-16  7e-12  0.9890  1e-02   2  1  1 |  0  0\n",
            "\n",
            "OPTIMAL (within feastol=6.4e-13, reltol=8.1e-03, abstol=3.9e-09).-------------------------------------------------------------------------------\n",
            "                                    Summary                                    \n",
            "-------------------------------------------------------------------------------\n",
            "(CVXPY) Aug 06 09:39:35 PM: Problem status: optimal\n",
            "\n",
            "Runtime: 0.234801 seconds.\n",
            "\n",
            "(CVXPY) Aug 06 09:39:35 PM: Optimal value: 4.844e-07\n",
            "(CVXPY) Aug 06 09:39:35 PM: Compilation took 1.484e+01 seconds\n",
            "(CVXPY) Aug 06 09:39:35 PM: Solver (including time spent in interface) took 2.351e-01 seconds\n",
            "Found objective value:  4.843719125349684e-07\n"
          ]
        },
        {
          "data": {
            "image/png": "[encoded data removed]",
            "text/plain": [
              "<Figure size 432x288 with 1 Axes>"
            ]
          },
          "metadata": {
            "needs_background": "light"
          },
          "output_type": "display_data"
        }
      ],
      "source": [
        "# Support\n",
        "T = np.arange(0, 6, 0.03)\n",
        "# Perform optimization\n",
        "weights, objective_value = perform_cvx_optimization( dictionary, T, 'linfty')\n",
        "# Plots\n",
        "print(\"Found objective value: \", objective_value)\n",
        "plt.figure()\n",
        "plt.plot( T,np.cumsum(weights))\n",
        "plt.title(\"CDF of population matrix\")\n",
        "plt.ylim( (-0.1,1.1) )\n",
        "plt.show()\n"
      ]
    },
    {
      "cell_type": "markdown",
      "id": "iALnhDI-RN8y",
      "metadata": {
        "id": "iALnhDI-RN8y"
      },
      "source": [
        "## III. 2. $l^1$ norm"
      ]
    },
    {
      "cell_type": "code",
      "execution_count": 26,
      "id": "Yv67aSUlxUxc",
      "metadata": {
        "colab": {
          "base_uri": "https://localhost:8080/",
          "height": 854
        },
        "id": "Yv67aSUlxUxc",
        "outputId": "677e22e8-1d43-47ea-f029-0de7f2301191"
      },
      "outputs": [
        {
          "name": "stdout",
          "output_type": "stream",
          "text": [
            "Building cvxpy program...\n",
            "Solving the convex problem...\n",
            "===============================================================================\n",
            "                                     CVXPY                                     \n",
            "                                     v1.2.1                                    \n",
            "===============================================================================\n",
            "(CVXPY) Aug 06 09:39:36 PM: Your problem has 200 variables, 2 constraints, and 0 parameters.\n",
            "(CVXPY) Aug 06 09:39:37 PM: It is compliant with the following grammars: DCP, DQCP\n",
            "(CVXPY) Aug 06 09:39:37 PM: (If you need to solve this problem multiple times, but with different data, consider using parameters.)\n",
            "(CVXPY) Aug 06 09:39:37 PM: CVXPY will first compile your problem; then, it will invoke a numerical solver to obtain a solution.\n",
            "-------------------------------------------------------------------------------\n",
            "                                  Compilation                                  \n",
            "-------------------------------------------------------------------------------\n",
            "(CVXPY) Aug 06 09:39:37 PM: Compiling problem (target solver=ECOS).\n",
            "(CVXPY) Aug 06 09:39:37 PM: Reduction chain: Complex2Real -> Dcp2Cone -> CvxAttr2Constr -> ConeMatrixStuffing -> ECOS\n",
            "(CVXPY) Aug 06 09:39:37 PM: Applying reduction Complex2Real\n",
            "(CVXPY) Aug 06 09:39:39 PM: Applying reduction Dcp2Cone\n",
            "(CVXPY) Aug 06 09:39:41 PM: Applying reduction CvxAttr2Constr\n",
            "(CVXPY) Aug 06 09:39:41 PM: Applying reduction ConeMatrixStuffing\n",
            "(CVXPY) Aug 06 09:39:44 PM: Applying reduction ECOS\n",
            "(CVXPY) Aug 06 09:39:44 PM: Finished problem compilation (took 7.880e+00 seconds).\n",
            "-------------------------------------------------------------------------------\n",
            "                                Numerical solver                               \n",
            "-------------------------------------------------------------------------------\n",
            "(CVXPY) Aug 06 09:39:44 PM: Invoking solver ECOS  to obtain a solution.\n",
            "\n",
            "ECOS 2.0.10 - (C) embotech GmbH, Zurich Switzerland, 2012-15. Web: www.embotech.com/ECOS\n",
            "\n",
            "It     pcost       dcost      gap   pres   dres    k/t    mu     step   sigma     IR    |   BT\n",
            " 0  +0.000e+00  -0.000e+00  +5e+02  9e-01  1e+00  1e+00  1e+00    ---    ---    1  1  - |  -  - \n",
            " 1  +7.819e-02  -6.773e-02  +3e+02  1e-01  2e-01  2e-03  7e-01  0.4781  3e-01   1  1  1 |  0  0\n",
            " 2  -3.290e-03  +4.670e-03  +2e+02  6e-03  1e-02  2e-02  6e-01  0.2854  9e-01   1  1  1 |  0  0\n",
            " 3  -7.906e-04  +1.309e-03  +1e+02  3e-03  5e-03  5e-03  3e-01  0.5569  1e-01   1  1  1 |  0  0\n",
            " 4  -1.516e-04  +2.431e-04  +3e+01  6e-04  1e-03  1e-03  1e-01  0.6885  2e-02   1  1  1 |  0  0\n",
            " 5  -1.319e-05  +1.692e-04  +3e+01  6e-04  1e-03  9e-04  9e-02  0.2897  6e-01   1  2  2 |  0  0\n",
            " 6  +7.983e-05  +5.000e-05  +1e+01  2e-04  4e-04  2e-04  3e-02  0.7744  2e-01   1  2  2 |  0  0\n",
            " 7  +2.681e-05  +8.075e-06  +3e+00  2e-05  7e-05  3e-05  6e-03  0.8779  7e-02   1  2  2 |  0  0\n",
            " 8  +1.861e-05  +2.858e-06  +1e+00  8e-06  3e-05  6e-06  3e-03  0.8097  3e-01   2  2  2 |  0  0\n",
            " 9  +1.523e-05  -6.037e-07  +1e+00  7e-06  3e-05  4e-06  3e-03  0.2253  8e-01   2  2  2 |  0  0\n",
            "10  +5.530e-06  -2.304e-07  +5e-01  2e-06  1e-05  1e-06  1e-03  0.6719  4e-02   2  2  2 |  0  0\n",
            "11  +5.711e-06  +1.028e-06  +3e-01  2e-06  7e-06  4e-07  7e-04  0.8031  6e-01   2  2  2 |  0  0\n",
            "12  +2.377e-06  +7.852e-07  +1e-01  9e-07  2e-06  1e-07  2e-04  0.7134  7e-02   2  2  2 |  0  0\n",
            "13  +2.194e-06  +6.636e-07  +1e-01  8e-07  2e-06  9e-08  2e-04  0.1367  7e-01   2  2  2 |  0  0\n",
            "14  +1.239e-06  +3.228e-07  +6e-02  4e-07  1e-06  5e-08  1e-04  0.4838  2e-01   2  2  2 |  0  0\n",
            "15  +5.504e-07  +1.230e-07  +3e-02  2e-07  6e-07  2e-08  6e-05  0.6336  2e-01   2  2  2 |  0  0\n",
            "16  +2.194e-07  +1.710e-08  +1e-02  6e-08  3e-07  3e-09  3e-05  0.8924  4e-01   2  3  2 |  0  0\n",
            "17  +2.204e-07  +4.676e-08  +1e-02  6e-08  3e-07  2e-09  2e-05  0.3846  6e-01   3  3  3 |  0  0\n",
            "18  +1.720e-07  +5.651e-08  +8e-03  4e-08  2e-07  1e-09  2e-05  0.6466  5e-01   3  3  3 |  0  0\n",
            "19  +1.025e-07  +5.859e-08  +3e-03  1e-08  6e-08  5e-10  6e-06  0.6772  8e-02   3  3  3 |  0  0\n",
            "20  +9.135e-08  +6.134e-08  +2e-03  9e-09  4e-08  3e-10  4e-06  0.6269  5e-01   3  4  4 |  0  0\n",
            "21  +7.805e-08  +6.888e-08  +6e-04  3e-09  1e-08  9e-11  1e-06  0.7418  4e-02   4  4  4 |  0  0\n",
            "22  +7.697e-08  +6.869e-08  +5e-04  3e-09  9e-09  8e-11  1e-06  0.2264  5e-01   6  6  6 |  0  0\n",
            "23  +7.480e-08  +7.015e-08  +3e-04  2e-09  5e-09  5e-11  5e-07  0.5155  1e-01   5  6  6 |  0  0\n",
            "24  +7.347e-08  +7.155e-08  +1e-04  6e-10  2e-09  2e-11  2e-07  0.6650  8e-02   6  6  7 |  0  0\n",
            "25  +7.259e-08  +7.214e-08  +2e-05  1e-10  5e-10  5e-12  5e-08  0.8488  8e-02   2  1  1 |  0  0\n",
            "26  +7.219e-08  +7.204e-08  +8e-06  5e-11  2e-10  1e-12  2e-08  0.9890  3e-01   1  1  1 |  0  0\n",
            "27  +7.208e-08  +7.205e-08  +1e-06  1e-11  1e-10  3e-13  3e-09  0.8764  6e-02   2  3  2 |  0  0\n",
            "28  +7.201e-08  +7.200e-08  +6e-07  5e-12  9e-11  1e-13  1e-09  0.7657  2e-01   2  2  2 |  0  0\n",
            "29  +7.197e-08  +7.196e-08  +3e-07  4e-12  8e-11  6e-14  6e-10  0.7845  4e-01   2  3  2 |  0  0\n",
            "30  +7.194e-08  +7.194e-08  +2e-07  3e-12  7e-11  4e-14  4e-10  0.9890  6e-01   2  2  1 |  0  0\n",
            "31  +7.189e-08  +7.189e-08  +9e-09  3e-12  7e-11  2e-15  2e-11  0.9809  3e-02   2  2  2 |  0  0\n",
            "\n",
            "OPTIMAL (within feastol=7.1e-11, reltol=1.3e-01, abstol=9.3e-09).\n",
            "Runtime: 0.147737 seconds.\n",
            "\n",
            "-------------------------------------------------------------------------------\n",
            "                                    Summary                                    \n",
            "-------------------------------------------------------------------------------\n",
            "(CVXPY) Aug 06 09:39:45 PM: Problem status: optimal\n",
            "(CVXPY) Aug 06 09:39:45 PM: Optimal value: 7.186e-08\n",
            "(CVXPY) Aug 06 09:39:45 PM: Compilation took 7.880e+00 seconds\n",
            "(CVXPY) Aug 06 09:39:45 PM: Solver (including time spent in interface) took 1.480e-01 seconds\n",
            "Found objective value:  7.186350946479561e-08\n"
          ]
        },
        {
          "data": {
            "image/png": "[encoded data removed]",
            "text/plain": [
              "<Figure size 432x288 with 1 Axes>"
            ]
          },
          "metadata": {
            "needs_background": "light"
          },
          "output_type": "display_data"
        }
      ],
      "source": [
        "# Support\n",
        "T = np.arange(0, 6, 0.03)\n",
        "# Perform optimization\n",
        "weights, objective_value = perform_cvx_optimization( dictionary, T, 'l1')\n",
        "# Plots\n",
        "print(\"Found objective value: \", objective_value)\n",
        "plt.figure()\n",
        "plt.plot( T,np.cumsum(weights))\n",
        "plt.title(\"CDF of population matrix\")\n",
        "plt.ylim( (-0.1,1.1) )\n",
        "plt.show()"
      ]
    },
    {
      "cell_type": "markdown",
      "id": "xK117v9i07PH",
      "metadata": {
        "id": "xK117v9i07PH"
      },
      "source": [
        "## III. 3. $l^2$ norm"
      ]
    },
    {
      "cell_type": "code",
      "execution_count": 27,
      "id": "tHQ0izqE0xNq",
      "metadata": {
        "colab": {
          "base_uri": "https://localhost:8080/",
          "height": 889
        },
        "id": "tHQ0izqE0xNq",
        "outputId": "1d178c5a-2193-4d81-929f-d151c41bb5d2"
      },
      "outputs": [
        {
          "name": "stdout",
          "output_type": "stream",
          "text": [
            "Building cvxpy program...\n",
            "Solving the convex problem...\n",
            "===============================================================================\n",
            "                                     CVXPY                                     \n",
            "                                     v1.2.1                                    \n",
            "===============================================================================\n",
            "(CVXPY) Aug 06 09:39:46 PM: Your problem has 200 variables, 2 constraints, and 0 parameters.\n",
            "(CVXPY) Aug 06 09:39:46 PM: It is compliant with the following grammars: DCP, DQCP\n",
            "(CVXPY) Aug 06 09:39:46 PM: (If you need to solve this problem multiple times, but with different data, consider using parameters.)\n",
            "(CVXPY) Aug 06 09:39:46 PM: CVXPY will first compile your problem; then, it will invoke a numerical solver to obtain a solution.\n",
            "-------------------------------------------------------------------------------\n",
            "                                  Compilation                                  \n",
            "-------------------------------------------------------------------------------\n",
            "(CVXPY) Aug 06 09:39:47 PM: Compiling problem (target solver=ECOS).\n",
            "(CVXPY) Aug 06 09:39:47 PM: Reduction chain: Complex2Real -> Dcp2Cone -> CvxAttr2Constr -> ConeMatrixStuffing -> ECOS\n",
            "(CVXPY) Aug 06 09:39:47 PM: Applying reduction Complex2Real\n",
            "(CVXPY) Aug 06 09:39:48 PM: Applying reduction Dcp2Cone\n",
            "(CVXPY) Aug 06 09:39:50 PM: Applying reduction CvxAttr2Constr\n",
            "(CVXPY) Aug 06 09:39:50 PM: Applying reduction ConeMatrixStuffing\n",
            "(CVXPY) Aug 06 09:39:54 PM: Applying reduction ECOS\n",
            "(CVXPY) Aug 06 09:39:54 PM: Finished problem compilation (took 7.676e+00 seconds).\n",
            "-------------------------------------------------------------------------------\n",
            "                                Numerical solver                               \n",
            "-------------------------------------------------------------------------------\n",
            "(CVXPY) Aug 06 09:39:54 PM: Invoking solver ECOS  to obtain a solution.\n",
            "\n",
            "ECOS 2.0.10 - (C) embotech GmbH, Zurich Switzerland, 2012-15. Web: www.embotech.com/ECOS\n",
            "\n",
            "It     pcost       dcost      gap   pres   dres    k/t    mu     step   sigma     IR    |   BT\n",
            " 0  +0.000e+00  -0.000e+00  +5e+02  9e-01  1e+00  1e+00  1e+00    ---    ---    1  1  - |  -  - \n",
            " 1  -4.601e-01  -5.212e-01  +1e+02  2e-01  2e-01  1e-01  3e-01  0.7467  1e-02   2  1  2 |  0  0\n",
            " 2  -7.853e-03  -8.902e-03  +1e+02  2e-02  2e-03  1e-02  2e-01  0.2940  8e-01   2  2  2 |  0  0\n",
            " 3  -3.010e-03  -4.071e-03  +6e+01  6e-03  4e-04  3e-03  1e-01  0.5228  6e-02   2  2  2 |  0  0\n",
            " 4  -8.482e-04  -1.096e-03  +2e+01  2e-03  6e-05  6e-04  4e-02  0.7208  4e-02   2  2  2 |  0  0\n",
            " 5  -3.545e-04  -5.272e-04  +8e+00  6e-04  2e-05  2e-04  2e-02  0.7486  2e-01   2  2  2 |  0  0\n",
            " 6  +3.858e-06  -3.587e-05  +1e+00  8e-05  3e-06  1e-05  3e-03  0.9280  1e-01   2  2  2 |  0  0\n",
            " 7  -3.414e-05  -5.368e-05  +6e-01  2e-05  1e-06  4e-06  1e-03  0.7145  2e-01   3  4  4 |  0  0\n",
            " 8  -1.780e-05  -3.315e-05  +4e-01  2e-05  1e-06  2e-06  9e-04  0.5884  5e-01   4  4  3 |  0  0\n",
            " 9  -6.210e-06  -1.331e-05  +2e-01  8e-06  5e-07  8e-07  4e-04  0.5751  6e-02   4  4  4 |  0  0\n",
            "10  -6.658e-06  -1.368e-05  +2e-01  8e-06  5e-07  7e-07  4e-04  0.0747  8e-01   5  5  5 |  0  0\n",
            "11  -4.973e-06  -8.395e-06  +1e-01  4e-06  2e-07  2e-07  2e-04  0.6919  2e-01   5  5  5 |  0  0\n",
            "12  -1.132e-06  -3.128e-06  +5e-02  2e-06  1e-07  1e-07  1e-04  0.6112  3e-01   7  8  8 |  0  0\n",
            "13  +4.108e-07  -3.214e-07  +2e-02  9e-07  5e-08  2e-08  4e-05  0.8743  3e-01   1  1  1 |  0  0\n",
            "14  +7.878e-08  -3.466e-07  +1e-02  5e-07  3e-08  1e-08  2e-05  0.5418  2e-01   1  1  1 |  0  0\n",
            "15  -4.318e-08  -1.802e-07  +4e-03  1e-07  9e-09  4e-09  7e-06  0.7323  7e-02   1  1  1 |  0  0\n",
            "16  +3.667e-08  -2.833e-08  +2e-03  5e-08  4e-09  2e-09  4e-06  0.7569  3e-01   1  0  0 |  0  0\n",
            "17  +1.053e-07  +7.187e-08  +9e-04  3e-08  2e-09  8e-10  2e-06  0.6370  2e-01   1  1  1 |  0  0\n",
            "18  +1.017e-07  +6.915e-08  +9e-04  2e-08  2e-09  7e-10  2e-06  0.1217  8e-01   1  1  1 |  0  0\n",
            "19  +1.096e-07  +9.119e-08  +5e-04  1e-08  1e-09  4e-10  1e-06  0.5309  2e-01   0  1  0 |  0  0\n",
            "20  +1.210e-07  +1.086e-07  +3e-04  9e-09  8e-10  3e-10  7e-07  0.6003  5e-01   1  1  2 |  0  0\n",
            "21  +1.229e-07  +1.115e-07  +3e-04  8e-09  7e-10  2e-10  6e-07  0.1057  2e-01   1  1  1 |  0  0\n",
            "22  +1.221e-07  +1.109e-07  +3e-04  8e-09  7e-10  2e-10  6e-07  0.0004  9e-01   1  0  0 |  0  0\n",
            "23  +8.741e-08  +8.049e-08  +5e-04  4e-09  4e-10  8e-11  1e-06  0.9890  8e-01   0  0  0 |  0  0\n",
            "24  +1.058e-07  +1.046e-07  +1e-04  1e-09  7e-11  2e-11  2e-07  0.8705  5e-02   1  0  0 |  0  0\n",
            "25  +1.094e-07  +1.083e-07  +1e-04  1e-09  6e-11  3e-11  2e-07  0.3034  5e-01   0  0  0 |  0  0\n",
            "26  +1.247e-07  +1.243e-07  +4e-05  1e-09  3e-11  1e-11  8e-08  0.6897  9e-02   0  0  0 |  0  0\n",
            "27  +1.430e-07  +1.429e-07  +1e-05  1e-09  1e-11  4e-12  2e-08  0.7719  5e-02   0  0  0 |  0  0\n",
            "28  +1.572e-07  +1.572e-07  +4e-06  1e-09  8e-12  2e-12  8e-09  0.7988  2e-01   0  0  0 |  0  0\n",
            "29  +1.571e-07  +1.570e-07  +4e-06  1e-09  8e-12  2e-12  8e-09  0.0000  1e+00   1  0  0 |  0  0\n",
            "30  +1.555e-07  +1.555e-07  +4e-06  1e-09  7e-12  2e-12  8e-09  0.0013  1e+00   1  0  0 |  0  0\n",
            "31  +1.475e-07  +1.475e-07  +2e-05  6e-10  6e-12  2e-12  5e-08  0.9890  8e-01   0  0  0 |  0  0\n",
            "32  +1.465e-07  +1.465e-07  +5e-05  4e-10  5e-12  2e-12  9e-08  0.9890  1e-01   1  0  0 |  0  0\n",
            "33  +1.566e-07  +1.566e-07  +3e-05  9e-10  6e-12  5e-12  6e-08  0.8644  2e-01   0  0  0 |  0  0\n",
            "34  +1.477e-07  +1.477e-07  +9e-06  1e-09  5e-12  5e-12  2e-08  0.0665  3e-01   1  0  0 |  0  0\n",
            "35  +1.662e-07  +1.662e-07  +3e-06  1e-09  5e-12  2e-12  5e-09  0.7507  5e-02   0  0  0 |  0  0\n",
            "36  +1.658e-07  +1.658e-07  +3e-06  1e-09  5e-12  2e-12  5e-09  0.0001  1e+00   1  0  0 |  0  0\n",
            "37  +1.593e-07  +1.593e-07  +1e-05  8e-10  3e-12  2e-12  2e-08  0.9890  9e-01   0  0  0 |  0  0\n",
            "38  +1.298e-07  +1.298e-07  +7e-05  5e-10  6e-12  2e-12  2e-07  0.8905  3e-01   1  0  0 |  0  0\n",
            "39  +1.492e-07  +1.492e-07  +2e-05  8e-10  5e-12  3e-12  5e-08  0.8131  7e-02   0  0  0 |  0  0\n",
            "40  +1.716e-07  +1.716e-07  +2e-06  8e-10  6e-12  7e-13  4e-09  0.9113  4e-02   0  0  0 |  0  0\n",
            "41  +1.712e-07  +1.712e-07  +2e-06  1e-09  5e-12  7e-13  3e-09  0.0000  1e+00   1  0  0 |  0  0\n",
            "42  +1.697e-07  +1.697e-07  +1e-06  1e-09  5e-12  7e-13  3e-09  0.0009  9e-01   0  0  0 |  0  0\n",
            "43  +1.722e-07  +1.722e-07  +1e-06  1e-09  5e-12  6e-13  2e-09  0.9890  8e-01   0  0  0 |  0  0\n",
            "44  +1.720e-07  +1.721e-07  +1e-06  1e-09  5e-12  6e-13  2e-09  0.0000  1e+00   1  1  0 |  0  0\n",
            "45  +1.704e-07  +1.704e-07  +1e-06  1e-09  5e-12  6e-13  2e-09  0.0009  1e+00   0  0  0 |  0  0\n",
            "46  +1.363e-07  +1.363e-07  +2e-04  4e-10  5e-12  5e-13  3e-07  0.6751  8e-01   0  0  0 |  0  0\n",
            "47  +1.486e-07  +1.486e-07  +1e-04  2e-09  6e-12  4e-12  2e-07  0.4399  1e-01   0  0  0 |  0  0\n",
            "48  +1.655e-07  +1.655e-07  +4e-05  9e-10  5e-12  5e-12  7e-08  0.6972  9e-02   0  0  0 |  0  0\n",
            "49  +1.564e-07  +1.564e-07  +1e-05  1e-09  4e-12  5e-12  2e-08  0.0441  4e-01   1  0  0 |  0  0\n",
            "50  +1.741e-07  +1.741e-07  +3e-06  1e-09  4e-12  2e-12  7e-09  0.8580  2e-01   0  0  0 |  0  0\n",
            "51  +1.739e-07  +1.739e-07  +3e-06  1e-09  4e-12  2e-12  7e-09  0.0000  1e+00   1  0  0 |  0  0\n",
            "52  +1.516e-07  +1.516e-07  +8e-05  2e-10  3e-12  2e-12  2e-07  0.9890  1e+00   0  0  0 |  0  0\n",
            "53  +1.746e-07  +1.746e-07  +6e-06  3e-10  5e-12  3e-12  1e-08  0.9890  6e-02   1  0  0 |  0  0\n",
            "54  +1.742e-07  +1.742e-07  +5e-06  9e-10  5e-12  3e-12  1e-08  0.0001  9e-01   1  1  1 |  0  0\n",
            "55  +1.731e-07  +1.731e-07  +5e-06  1e-09  5e-12  3e-12  1e-08  0.0003  9e-01   1  0  0 |  0  0\n",
            "56  +1.522e-07  +1.522e-07  +8e-05  2e-10  3e-12  2e-12  2e-07  0.9890  8e-01   0  0  0 |  0  0\n",
            "57  +1.761e-07  +1.761e-07  +5e-06  3e-10  5e-12  9e-13  9e-09  0.9644  2e-02   1  0  0 |  0  0\n",
            "58  +1.757e-07  +1.757e-07  +4e-06  7e-10  5e-12  9e-13  8e-09  0.0006  9e-01   1  1  1 |  0  0\n",
            "59  +1.740e-07  +1.740e-07  +2e-06  1e-09  5e-12  9e-13  4e-09  0.0006  9e-01   1  0  0 |  0  0\n",
            "60  +1.619e-07  +1.619e-07  +4e-05  4e-10  3e-12  9e-13  8e-08  0.8968  8e-01   0  0  0 |  0  0\n",
            "61  +1.697e-07  +1.697e-07  +3e-05  4e-10  4e-12  2e-12  6e-08  0.9890  7e-02   1  0  0 |  0  0\n",
            "62  +1.587e-07  +1.587e-07  +5e-06  1e-09  4e-12  2e-12  1e-08  0.0812  3e-01   1  0  0 |  0  0\n",
            "63  +1.776e-07  +1.776e-07  +1e-06  1e-09  4e-12  6e-13  3e-09  0.7389  4e-02   0  0  0 |  0  0\n",
            "64  +1.772e-07  +1.772e-07  +1e-06  1e-09  4e-12  6e-13  3e-09  0.0001  1e+00   1  0  0 |  0  0\n",
            "65  +1.692e-07  +1.692e-07  +1e-05  6e-10  3e-12  7e-13  2e-08  0.9890  9e-01   0  0  0 |  0  0\n",
            "66  +1.388e-07  +1.388e-07  +9e-05  6e-10  5e-12  2e-12  2e-07  0.8362  3e-01   0  0  0 |  0  0\n",
            "67  +1.522e-07  +1.522e-07  +4e-05  9e-10  3e-12  4e-12  9e-08  0.5738  1e-01   0  0  0 |  0  0\n",
            "68  +1.645e-07  +1.645e-07  +2e-05  8e-10  4e-12  4e-12  5e-08  0.5632  2e-01   0  0  0 |  0  0\n",
            "69  +1.641e-07  +1.641e-07  +4e-05  4e-10  3e-12  5e-12  8e-08  0.7092  3e-01   0  0  0 |  0  0\n",
            "70  +1.578e-07  +1.578e-07  +7e-05  2e-10  3e-12  2e-12  1e-07  0.9890  1e-01   0  0  0 |  0  0\n",
            "71  +1.764e-07  +1.764e-07  +1e-05  2e-10  3e-12  9e-13  2e-08  0.9890  2e-02   0  0  0 |  0  0\n",
            "72  +1.739e-07  +1.739e-07  +2e-06  9e-10  3e-12  8e-13  5e-09  0.0008  8e-01   1  0  0 |  0  0\n",
            "73  +1.566e-07  +1.566e-07  +8e-05  2e-10  2e-12  7e-13  2e-07  0.9890  6e-01   0  0  0 |  0  0\n",
            "74  +1.768e-07  +1.768e-07  +1e-05  3e-09  6e-12  6e-12  3e-08  0.9890  1e-01   1  0  0 |  0  0\n",
            "75  +1.759e-07  +1.759e-07  +1e-05  3e-09  6e-12  6e-12  2e-08  0.0003  9e-01   1  1  1 |  0  0\n",
            "76  +1.722e-07  +1.723e-07  +1e-05  3e-09  5e-12  5e-12  2e-08  0.0049  8e-01   1  0  0 |  0  0\n",
            "77  +1.780e-07  +1.780e-07  +8e-06  2e-09  4e-12  4e-12  2e-08  0.4416  5e-01   0  0  0 |  0  0\n",
            "78  +1.779e-07  +1.779e-07  +8e-06  3e-09  4e-12  4e-12  2e-08  0.0000  1e+00   1  0  0 |  0  0\n",
            "No further progress possible, recovering best iterate (57) and stopping.\n",
            "Close to OPTIMAL (within feastol=3.0e-10, reltol=2.6e+01, abstol=4.6e-06).\n",
            "Runtime: 0.355231 seconds.\n",
            "\n",
            "-------------------------------------------------------------------------------\n",
            "                                    Summary                                    \n",
            "-------------------------------------------------------------------------------\n",
            "(CVXPY) Aug 06 09:39:54 PM: Problem status: optimal_inaccurate\n",
            "(CVXPY) Aug 06 09:39:54 PM: Optimal value: 1.808e-07\n",
            "(CVXPY) Aug 06 09:39:54 PM: Compilation took 7.676e+00 seconds\n",
            "(CVXPY) Aug 06 09:39:54 PM: Solver (including time spent in interface) took 3.555e-01 seconds\n",
            "Found objective value:  1.8078199097623964e-07\n"
          ]
        },
        {
          "data": {
            "image/png": "[encoded data removed]",
            "text/plain": [
              "<Figure size 432x288 with 1 Axes>"
            ]
          },
          "metadata": {
            "needs_background": "light"
          },
          "output_type": "display_data"
        }
      ],
      "source": [
        "# Support\n",
        "T = np.arange(0, 6, 0.03)\n",
        "# Perform optimization\n",
        "weights, objective_value = perform_cvx_optimization( dictionary, T, 'l2')\n",
        "# Plots\n",
        "print(\"Found objective value: \", objective_value)\n",
        "plt.figure()\n",
        "plt.plot( T,np.cumsum(weights))\n",
        "plt.title(\"CDF of population matrix\")\n",
        "plt.ylim( (-0.1,1.1) )\n",
        "plt.show()"
      ]
    },
    {
      "cell_type": "code",
      "execution_count": null,
      "id": "bfixNQdP0zBK",
      "metadata": {
        "id": "bfixNQdP0zBK"
      },
      "outputs": [],
      "source": []
    }
  ],
  "metadata": {
    "colab": {
      "collapsed_sections": [
        "6RybRximYwwI"
      ],
      "name": "Shared_ElKaroui3.ipynb",
      "provenance": []
    },
    "kernelspec": {
      "display_name": "Python 3.8.12 ('.venv_freeDeconv': venv)",
      "language": "python",
      "name": "python3"
    },
    "language_info": {
      "codemirror_mode": {
        "name": "ipython",
        "version": 3
      },
      "file_extension": ".py",
      "mimetype": "text/x-python",
      "name": "python",
      "nbconvert_exporter": "python",
      "pygments_lexer": "ipython3",
      "version": "3.8.12"
    },
    "vscode": {
      "interpreter": {
        "hash": "b113a8579add5faf2f9ec67743fdef082f8321b29ee44c1abb0637b90b3b7daf"
      }
    }
  },
  "nbformat": 4,
  "nbformat_minor": 5
}
