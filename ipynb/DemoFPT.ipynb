{
 "cells": [
  {
   "cell_type": "code",
   "execution_count": null,
   "metadata": {},
   "outputs": [],
   "source": [
    "import numpy as np\n",
    "import matplotlib.pyplot as plt\n",
    "\n",
    "N=1000\n",
    "num_bins=50"
   ]
  },
  {
   "cell_type": "markdown",
   "metadata": {},
   "source": [
    "## Semi-circular law as universal spectral limit for Gaussian Hermitian matrices\n",
    "following Wigner (1958)\n",
    "$$ \\frac{1}{2 \\pi} \\sqrt{4-x^2} 1_{\\{ -2 \\leq x \\leq 2 \\}} dx $$"
   ]
  },
  {
   "cell_type": "code",
   "execution_count": null,
   "metadata": {},
   "outputs": [],
   "source": [
    "G = np.random.normal( size=(N,N) )\n",
    "H = (G + G.transpose())/np.sqrt(2)\n",
    "H = H/np.sqrt(N)\n",
    "diag, U = np.linalg.eig(H)\n",
    "\n",
    "# Histogram of spectrum\n",
    "fig, ax = plt.subplots()\n",
    "n, bins, patches = ax.hist(diag, num_bins, density=True)\n",
    "y = np.sqrt( 4 - bins**2)/(2*np.pi)\n",
    "ax.plot(bins, y, '--', linewidth=4)\n",
    "ax.set_xlabel('Eigenvalues')\n",
    "ax.set_ylabel('Probability density')\n",
    "ax.set_title(r'Histogram of eigenvalues for N={}'.format(N))\n",
    "fig.tight_layout()\n",
    "plt.show()"
   ]
  },
  {
   "cell_type": "markdown",
   "metadata": {},
   "source": [
    "## Marchenko-Pastur law as universal limit for singular values of Gaussian matrices\n",
    "following Marchenko and Pastur (1967)\n",
    "$$ \\frac{1}{2 \\pi} \\frac{\\sqrt{(x-l)(r-x)}}{x} dx $$"
   ]
  },
  {
   "cell_type": "code",
   "execution_count": null,
   "metadata": {},
   "outputs": [],
   "source": [
    "c = 3 # MP scale parameter\n",
    "r = (1+np.sqrt(c))**2 #Right end\n",
    "l = (1-np.sqrt(c))**2 #Left end\n",
    "\n",
    "G = np.random.normal( size=(N,c*N) )\n",
    "W = G.dot( G.transpose() )\n",
    "W = W/N\n",
    "diag, U = np.linalg.eig(W)\n",
    "\n",
    "# Histogram of singular values\n",
    "fig, ax = plt.subplots()\n",
    "n, bins, patches = ax.hist(diag, num_bins, density=True)\n",
    "y = np.sqrt( (r-bins)*(bins-l) )/(2*np.pi*bins)\n",
    "ax.plot(bins, y, '--', linewidth=4)\n",
    "ax.set_xlabel('Eigenvalues')\n",
    "ax.set_ylabel('Probability density')\n",
    "ax.set_title(r'Histogram of singular values for N={}'.format(N))\n",
    "fig.tight_layout()\n",
    "plt.xlim(0,r+0.5)\n",
    "plt.show()"
   ]
  },
  {
   "cell_type": "markdown",
   "metadata": {},
   "source": [
    "## Free convolution\n",
    "following Voiculescu (1991)\n",
    "$$ \\frac{1}{\\pi} \\frac{1}{\\sqrt{x(2-x)}} 1_{\\{  0 < x < 2 \\}} dx $$"
   ]
  },
  {
   "cell_type": "code",
   "execution_count": null,
   "metadata": {},
   "outputs": [],
   "source": [
    "# Bernoulli sample (fake)\n",
    "A = np.zeros(N)\n",
    "A[0:int(0.5*N)] = 1\n",
    "A = np.diag(A)\n",
    "# Sample unitary\n",
    "G = np.random.normal( size=(N,N) )\n",
    "H = (G + G.transpose())/np.sqrt(2)\n",
    "H = H/np.sqrt(N)\n",
    "diag, U = np.linalg.eig(H)\n",
    "# Additive convolution\n",
    "B = U.dot(A.dot(U.transpose()))\n",
    "C = A+B\n",
    "\n",
    "diag, U = np.linalg.eig(C)\n",
    "\n",
    "num_bins = 50\n",
    "fig, ax = plt.subplots()\n",
    "# Histogram of singular values\n",
    "n, bins, patches = ax.hist(diag, num_bins, density=True)\n",
    "y = (1/np.pi)/np.sqrt( bins*(2-bins) )\n",
    "ax.plot(bins, y, '--', linewidth=4)\n",
    "ax.set_xlabel('Eigenvalues')\n",
    "ax.set_ylabel('Probability density')\n",
    "ax.set_title(r'Histogram of empiritical spectral distribution for N={}'.format(N))\n",
    "fig.tight_layout()\n",
    "plt.xlim(-0.5,2.5)\n",
    "plt.ylim(0, 2.5)\n",
    "plt.show()"
   ]
  },
  {
   "cell_type": "code",
   "execution_count": null,
   "metadata": {},
   "outputs": [],
   "source": []
  }
 ],
 "metadata": {
  "kernelspec": {
   "display_name": "Python 3.8.12 ('.venv_freeDeconvolution': venv)",
   "language": "python",
   "name": "python3"
  },
  "language_info": {
   "codemirror_mode": {
    "name": "ipython",
    "version": 3
   },
   "file_extension": ".py",
   "mimetype": "text/x-python",
   "name": "python",
   "nbconvert_exporter": "python",
   "pygments_lexer": "ipython3",
   "version": "3.8.12"
  },
  "vscode": {
   "interpreter": {
    "hash": "83ad3b51f5450210da1b9d18efb29269cf300f2a6c746cbd073f1c6cce1a6c0e"
   }
  }
 },
 "nbformat": 4,
 "nbformat_minor": 2
}
