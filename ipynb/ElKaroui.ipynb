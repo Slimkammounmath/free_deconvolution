{
  "cells": [
    {
      "cell_type": "code",
      "execution_count": null,
      "id": "efb8a3e5",
      "metadata": {
        "id": "efb8a3e5"
      },
      "outputs": [],
      "source": [
        "import time\n",
        "import scipy\n",
        "import numpy as np\n",
        "import matplotlib.pyplot as plt"
      ]
    },
    {
      "cell_type": "markdown",
      "id": "0067c608-9dfa-4b97-8fd1-00b7ee817771",
      "metadata": {
        "id": "0067c608-9dfa-4b97-8fd1-00b7ee817771"
      },
      "source": [
        "# I. Monte-Carlo sampling of some multiplicative free convolutions.\n",
        "\n",
        "Let $\\mu_P$ be the limiting spectral measure of a population matrix $\\Sigma$, \n",
        "and $\\mu_{MP}$ is the Marchenko-Pastur distribution.\n",
        "$$ \\mu_{MP} = \\frac{1}{2 \\pi} \\frac{\\sqrt{(x-l)(r-x)}}{x} dx ,$$\n",
        "where \n",
        "$$r = (1+\\sqrt{c})^2$$\n",
        "$$l = (1-\\sqrt{c})^2$$\n",
        "and $c$ being the scale parameter.\n",
        "\n",
        "\n",
        "Consider a Wishart matrix $W$ of size $(p,N)$, with $N \\rightarrow \\infty$, $p/N \\rightarrow \\infty$. \n",
        "By FPT, the limiting empirical spectral distribution of\n",
        "$$ \\Sigma^{\\frac{1}{2}} W \\Sigma^{\\frac{1}{2}}$$\n",
        "is the free convolution:\n",
        "$$ \\nu := \\mu_P \\boxtimes \\mu_{MP}$$\n",
        "\n",
        "Here we sample empirical versions of $\\nu$ for three cases:\n",
        "1. White case ($\\mu_P = \\delta_1$) obtained with $ \\Sigma = Id_p $.\n",
        "2. Three diracs for $\\mu_P$.\n",
        "3. Toeplitz with coefficients $\\left( 0.3^{|i-j|} \\ ; \\ 0 \\leq i,j \\leq p \\right)$\n",
        "\n",
        "\n"
      ]
    },
    {
      "cell_type": "code",
      "execution_count": null,
      "id": "45b77c62",
      "metadata": {},
      "outputs": [],
      "source": [
        "N=500\n",
        "num_bins=20\n",
        "\n",
        "Scenario = \"Case1\""
      ]
    },
    {
      "cell_type": "code",
      "execution_count": null,
      "id": "62826f3c",
      "metadata": {
        "colab": {
          "base_uri": "https://localhost:8080/",
          "height": 314
        },
        "id": "62826f3c",
        "outputId": "b0876f35-ce58-42f0-d7d3-2a4116acd49b"
      },
      "outputs": [],
      "source": [
        "# Create population spectrum\n",
        "if Scenario==\"Case1\":\n",
        "    c = 0.3\n",
        "    p = int(c*N)\n",
        "    r = (1+np.sqrt(c))**2 #Right end of MP\n",
        "    l = (1-np.sqrt(c))**2 #Left end of MP\n",
        "    population_spectrum = np.ones( p )\n",
        "elif Scenario==\"Case2\":\n",
        "    c = 0.3\n",
        "    p = int(c*N)\n",
        "    weights = np.array( [1, 1, 1] )\n",
        "    weights = weights/np.sum( weights )\n",
        "    support = np.array( [0.5, 1, 4] )\n",
        "\n",
        "    population_cdf = np.cumsum( weights )\n",
        "\n",
        "    population_spectrum = np.zeros( (p,) )\n",
        "    block_begin = 0\n",
        "    for i in range( len(weights) ):\n",
        "        block_end = int( population_cdf[i]*p )\n",
        "        population_spectrum[block_begin:block_end] = support[i]\n",
        "        block_begin = block_end\n",
        "\n",
        "elif Scenario==\"Case3\":\n",
        "    c = 0.2\n",
        "    p = int(c*N)\n",
        "    indices = np.arange( 0, p, 1)\n",
        "    toeplitz_row    = 0.3**indices\n",
        "    toeplitz = scipy.linalg.toeplitz( toeplitz_row)\n",
        "    \n",
        "    population_spectrum, U = np.linalg.eig(toeplitz)\n",
        "    population_spectrum = np.sort( population_spectrum )\n",
        "else:\n",
        "    print( \"Please specify a scenario...\" )\n",
        "    raise Error()\n",
        "\n",
        "# Histogram of population spectrum\n",
        "fig, ax = plt.subplots()\n",
        "n, bins, patches = ax.hist(population_spectrum, num_bins, density=True)\n",
        "ax.set_xlabel('Eigenvalues')\n",
        "ax.set_ylabel('Probability density')\n",
        "ax.set_title(r'Histogram of population spectrum for p={}'.format(p))\n",
        "fig.tight_layout()\n",
        "plt.xlim(0,np.max(population_spectrum)+0.5)\n",
        "plt.show()\n",
        "\n",
        "interval_max = np.max(population_spectrum)+0.5\n",
        "interval       = np.linspace( 0, interval_max, 100)\n",
        "population_cdf = np.zeros_like( interval )\n",
        "for i in range( len(interval) ):\n",
        "    t = interval[i]\n",
        "    population_cdf[i] = np.count_nonzero( population_spectrum <= t )\n",
        "population_cdf = population_cdf/p\n",
        "plt.plot( interval, population_cdf )\n",
        "plt.xlabel('Eigenvalues')\n",
        "plt.ylabel('Probability')\n",
        "plt.title(r'CDF of population spectrum for p={}'.format(p))\n",
        "plt.xlim(0,np.max(population_spectrum)+0.5)\n",
        "plt.show()"
      ]
    },
    {
      "cell_type": "code",
      "execution_count": null,
      "id": "aab5998b",
      "metadata": {},
      "outputs": [],
      "source": [
        "from freeDeconvolution import sampling\n",
        "\n",
        "# Sample\n",
        "print( \"Sampling... \")\n",
        "diag = sampling.sample_wishart( p, N, population_spectrum )\n",
        "\n",
        "# Histogram of singular values\n",
        "fig, ax = plt.subplots()\n",
        "n, bins, patches = ax.hist(diag, num_bins, density=True)\n",
        "if Scenario=='Case1':\n",
        "    y = np.sqrt( (r-bins)*(bins-l) )/(2*np.pi*bins*c) # Added extra c. I believe this is the c part of the mass, while (1-c) is a Dirac at zero\n",
        "    ax.plot(bins, y, '--', linewidth=4)\n",
        "ax.set_xlabel('Eigenvalues')\n",
        "ax.set_ylabel('Probability density')\n",
        "ax.set_title(r'Histogram of singular values for p={}'.format(p))\n",
        "fig.tight_layout()\n",
        "plt.xlim(0,np.max(diag)+0.5)\n",
        "plt.show()"
      ]
    },
    {
      "cell_type": "markdown",
      "id": "26280482",
      "metadata": {
        "id": "26280482"
      },
      "source": [
        "# II. Dictionary build"
      ]
    },
    {
      "cell_type": "markdown",
      "id": "li2R9xzvNcYF",
      "metadata": {
        "id": "li2R9xzvNcYF"
      },
      "source": [
        "## II. 1. Following El Karoui: Fix  $\\nu_F(z_i)$ and compute $z_i$"
      ]
    },
    {
      "cell_type": "code",
      "execution_count": null,
      "id": "8a9063da",
      "metadata": {
        "colab": {
          "base_uri": "https://localhost:8080/",
          "height": 298
        },
        "id": "8a9063da",
        "outputId": "0c856668-b083-4384-d089-387a9bb58803"
      },
      "outputs": [],
      "source": [
        "nu = np.array( [complex(0.02*a,b) for a in range(0, 50) for b in [0.01,0.1]] )\n",
        "#nu = np.array( [complex(0.01*a,b) for a in range(-50, 50) for b in [0.01,0.1]] )\n",
        "\n",
        "l1 = np.max( diag )\n",
        "lp = np.min( diag )\n",
        "print( \"Range of eigenvalues: \", lp, l1)\n",
        "\n",
        "plt.figure()\n",
        "plt.scatter( np.real(nu), np.imag(nu), marker='x')\n",
        "plt.title(\"nu chosen by El Karoui\")\n",
        "plt.show()\n",
        "\n",
        "diag_norm = diag/l1"
      ]
    },
    {
      "cell_type": "code",
      "execution_count": null,
      "id": "7c947354",
      "metadata": {},
      "outputs": [],
      "source": [
        "from freeDeconvolution import elkaroui, sampling\n",
        "\n",
        "print( \"Building dictionary...\")\n",
        "Z = elkaroui.build_dictionary( nu, c, diag)\n",
        "print( \"\")\n",
        "\n",
        "print( \"Checking that optimization worked...\")\n",
        "nu_check = -(1-c)/Z + c*elkaroui.stieltjes(Z, diag)\n",
        "nu_errors = np.abs(nu - nu_check)\n",
        "bad_indices = np.where(nu_errors > 1e-5)\n",
        "print( \"Bad indices:\", nu[bad_indices] )\n",
        "print( \"Max error  :\", np.max(nu_errors) )\n",
        "print( \"\" )\n",
        "\n",
        "# Clean-up if necessary\n",
        "if len(bad_indices):\n",
        "    print(\"Removing bad indices...\")\n",
        "    Z  = np.delete( Z , bad_indices )\n",
        "    nu = np.delete( nu, bad_indices)\n",
        "\n",
        "plt.figure()\n",
        "plt.scatter( np.real(Z), np.imag(Z), marker='x')\n",
        "plt.title(\"$z_j$ found by optimizer\")\n",
        "plt.show()\n",
        "\n",
        "dictionary = (Z, nu)"
      ]
    },
    {
      "cell_type": "code",
      "execution_count": null,
      "id": "4xDg2LaInVwu",
      "metadata": {
        "colab": {
          "base_uri": "https://localhost:8080/",
          "height": 614
        },
        "id": "4xDg2LaInVwu",
        "outputId": "634d10e5-d945-4a30-ed95-702041ac35dd"
      },
      "outputs": [],
      "source": [
        "# Do a few checks in the first scenario\n",
        "if Scenario=='Case1':\n",
        "  errors = []\n",
        "  c_interval = np.linspace( 0.1, 1.0, 100)\n",
        "  for c_test in c_interval:\n",
        "    error = np.linalg.norm(1/nu + Z - c_test*1/(1+nu))/len(Z)\n",
        "    errors.append( error )\n",
        "  errors = np.array( errors )\n",
        "\n",
        "  plt.plot( c_interval, errors)\n",
        "  plt.title(\"Errors as a function of c\")\n",
        "  plt.ylim( (0, np.max(errors)))\n",
        "  plt.show()\n",
        "\n",
        "  errors_l1  = []\n",
        "  errors_l2  = []\n",
        "  errors_max = []\n",
        "  pos_interval = np.linspace( 0.1, 3, 100)\n",
        "  for t in pos_interval:\n",
        "    error_l1  = np.linalg.norm(1/nu + Z - c*t/(1+t*nu), ord=1)/len(Z)\n",
        "    error_l2  = np.linalg.norm(1/nu + Z - c*t/(1+t*nu))/np.sqrt(len(Z))\n",
        "    error_max = np.max(1/nu + Z - c*t/(1+t*nu))\n",
        "    #\n",
        "    errors_l1.append( error_l1 )\n",
        "    errors_l2.append( error_l2 )\n",
        "    errors_max.append( np.abs(error_max) )\n",
        "\n",
        "  errors = np.array( errors )\n",
        "\n",
        "\n",
        "  plt.plot( pos_interval, errors_l1, label='l1 error')\n",
        "  plt.plot( pos_interval, errors_l2, label='l2 error')\n",
        "  plt.plot( pos_interval, errors_max, label='$l^\\infty$ error')\n",
        "  plt.title(\"Errors as a function of Dirac position\")\n",
        "  plt.legend()\n",
        "  plt.show()\n",
        "\n",
        "  print( \"Minimal errors: \")\n",
        "  print( np.min(errors_l1) )\n",
        "  print( np.min(errors_l2) )\n",
        "  print( np.min(errors_max) )"
      ]
    },
    {
      "cell_type": "markdown",
      "id": "6RybRximYwwI",
      "metadata": {
        "id": "6RybRximYwwI"
      },
      "source": [
        "## II.2. Fix $z_j$ and deduce $\\nu(z_j)$"
      ]
    },
    {
      "cell_type": "code",
      "execution_count": null,
      "id": "mrU9jkEHZCbX",
      "metadata": {
        "id": "mrU9jkEHZCbX"
      },
      "outputs": [],
      "source": [
        "#Z = np.linspace(0.1, 3, 200) + (1e-6)*1.0j\n",
        "#plt.scatter( np.real(Z), np.imag(Z), marker='x')\n",
        "#plt.title(\"Z\")\n",
        "#plt.show()\n",
        "\n",
        "#nu = c*elkaroui.stieltjes(Z, diag) - (1-c)*1/Z\n",
        "#plt.figure()\n",
        "#plt.scatter( np.real(nu), np.imag(nu), marker='x')\n",
        "#plt.title(\"nu\")\n",
        "#plt.show()\n"
      ]
    },
    {
      "cell_type": "code",
      "execution_count": null,
      "id": "O8Ohregvcz2I",
      "metadata": {
        "id": "O8Ohregvcz2I"
      },
      "outputs": [],
      "source": [
        "#errors = []\n",
        "#c_interval = np.linspace( 0.1, 3, 100)\n",
        "#for c in c_interval:\n",
        "#  error = np.linalg.norm(1/nu + Z - c*1/(1+nu))/len(Z)\n",
        "#  errors.append( error )\n",
        "#errors = np.array( errors )\n",
        "\n",
        "#plt.plot( c_interval, errors)\n",
        "#plt.title(\"Errors as a function of c\")\n",
        "#plt.ylim( (0, np.max(errors)))\n",
        "#plt.show()\n"
      ]
    },
    {
      "cell_type": "code",
      "execution_count": null,
      "id": "SYpyTa1Afv4Z",
      "metadata": {
        "id": "SYpyTa1Afv4Z"
      },
      "outputs": [],
      "source": [
        "#errors = []\n",
        "#pos_interval = np.linspace( 0.1, 3, 100)\n",
        "#for t in pos_interval:\n",
        "#  error = np.linalg.norm(1/nu + Z - (1/c)*t/(1+t*nu))/len(Z)\n",
        "#  errors.append( error )\n",
        "#errors = np.array( errors )\n",
        "\n",
        "#plt.plot( pos_interval, errors)\n",
        "#plt.title(\"Errors as a function of c\")\n",
        "#plt.ylim( (0, np.max(errors)))\n",
        "#plt.show()"
      ]
    },
    {
      "cell_type": "markdown",
      "id": "oUNbL0oYO2lL",
      "metadata": {
        "id": "oUNbL0oYO2lL"
      },
      "source": [
        "# III. Convex optimization"
      ]
    },
    {
      "cell_type": "code",
      "execution_count": null,
      "id": "77f1ed3f",
      "metadata": {},
      "outputs": [],
      "source": [
        "# Support is case by case\n",
        "if Scenario=='Case1':\n",
        "    T = np.arange(0, 2, 0.005)\n",
        "elif Scenario=='Case2':\n",
        "    T = np.arange(0, 6, 0.03)\n",
        "elif Scenario=='Case3':\n",
        "    T = np.arange(0, 2.5, 0.03)\n",
        "\n",
        "population_cdf = np.zeros_like( T )\n",
        "for i in range( len(T) ):\n",
        "    t = T[i]\n",
        "    population_cdf[i] = np.count_nonzero( population_spectrum <= t )\n",
        "population_cdf = population_cdf/p\n",
        "\n",
        "def deconvolution( norm_type ):\n",
        "    # Perform optimization\n",
        "    weights, objective_value = elkaroui.perform_cvx_optimization( dictionary, T, c, norm_type, verbose=False)\n",
        "    # Plots\n",
        "    print(\"Found objective value: \", objective_value)\n",
        "    plt.figure()\n",
        "    plt.plot( T, np.cumsum(weights), label='Reconstruction from convex optimization')\n",
        "    plt.plot( T, population_cdf, label='Ground truth')\n",
        "    plt.title(\"CDF of population matrix\")\n",
        "    plt.ylim( (-0.1,1.1) )\n",
        "    plt.legend()\n",
        "    plt.show()"
      ]
    },
    {
      "cell_type": "markdown",
      "id": "w7eAE5gnQxKt",
      "metadata": {
        "id": "w7eAE5gnQxKt"
      },
      "source": [
        "## III. 1. $l^\\infty$ norm"
      ]
    },
    {
      "cell_type": "code",
      "execution_count": null,
      "id": "InalifzTXcJe",
      "metadata": {
        "colab": {
          "base_uri": "https://localhost:8080/",
          "height": 854
        },
        "id": "InalifzTXcJe",
        "outputId": "42771f7c-5a34-4927-82f2-fd89e7061ce3"
      },
      "outputs": [],
      "source": [
        "deconvolution('linfty')"
      ]
    },
    {
      "cell_type": "markdown",
      "id": "iALnhDI-RN8y",
      "metadata": {
        "id": "iALnhDI-RN8y"
      },
      "source": [
        "## III. 2. $l^1$ norm"
      ]
    },
    {
      "cell_type": "code",
      "execution_count": null,
      "id": "Yv67aSUlxUxc",
      "metadata": {
        "colab": {
          "base_uri": "https://localhost:8080/",
          "height": 854
        },
        "id": "Yv67aSUlxUxc",
        "outputId": "677e22e8-1d43-47ea-f029-0de7f2301191"
      },
      "outputs": [],
      "source": [
        "deconvolution('l1')"
      ]
    },
    {
      "cell_type": "markdown",
      "id": "xK117v9i07PH",
      "metadata": {
        "id": "xK117v9i07PH"
      },
      "source": [
        "## III. 3. $l^2$ norm"
      ]
    },
    {
      "cell_type": "code",
      "execution_count": null,
      "id": "tHQ0izqE0xNq",
      "metadata": {
        "colab": {
          "base_uri": "https://localhost:8080/",
          "height": 889
        },
        "id": "tHQ0izqE0xNq",
        "outputId": "1d178c5a-2193-4d81-929f-d151c41bb5d2"
      },
      "outputs": [],
      "source": [
        "deconvolution('l2')"
      ]
    }
  ],
  "metadata": {
    "colab": {
      "collapsed_sections": [
        "6RybRximYwwI"
      ],
      "name": "Shared_ElKaroui3.ipynb",
      "provenance": []
    },
    "kernelspec": {
      "display_name": "Python 3.8.12 ('.venv_freeDeconvolution': venv)",
      "language": "python",
      "name": "python3"
    },
    "language_info": {
      "codemirror_mode": {
        "name": "ipython",
        "version": 3
      },
      "file_extension": ".py",
      "mimetype": "text/x-python",
      "name": "python",
      "nbconvert_exporter": "python",
      "pygments_lexer": "ipython3",
      "version": "3.8.12"
    },
    "vscode": {
      "interpreter": {
        "hash": "83ad3b51f5450210da1b9d18efb29269cf300f2a6c746cbd073f1c6cce1a6c0e"
      }
    }
  },
  "nbformat": 4,
  "nbformat_minor": 5
}
