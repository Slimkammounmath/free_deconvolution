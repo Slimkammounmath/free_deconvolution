{
 "cells": [
  {
   "cell_type": "code",
   "execution_count": 1,
   "metadata": {},
   "outputs": [],
   "source": [
    "import numpy as np\n",
    "import scipy\n",
    "\n",
    "def moment_legendre(n):\n",
    "    return 1/(1+np.arange(n))\n",
    "\n",
    "def jacobi_a_legendre(n):\n",
    "    return 0.5*np.ones( (n,) )\n",
    "\n",
    "def jacobi_b_legendre(n):\n",
    "    k = 1.0*np.arange(1, n+1)\n",
    "    b = 1/( 4*(4-k**(-2)) )\n",
    "    #b = np.array( [1] + list( b ) )\n",
    "    return np.sqrt(b)\n",
    "\n",
    "def moment_laguerre(n):\n",
    "    k = 1.0*np.arange(0, n)\n",
    "    k[0] = 1.0\n",
    "    return np.cumprod(k)\n",
    "\n",
    "def jacobi_a_laguerre(n):\n",
    "    k = 1.0*np.arange(1, n+1)\n",
    "    return 2*k-1\n",
    "\n",
    "def jacobi_b_laguerre(n):\n",
    "    k = 1.0*np.arange(1, n+1)\n",
    "    return k\n"
   ]
  },
  {
   "cell_type": "code",
   "execution_count": 7,
   "metadata": {},
   "outputs": [],
   "source": [
    "compute_moments  = moment_legendre\n",
    "compute_jacobi_a = jacobi_a_legendre\n",
    "compute_jacobi_b = jacobi_b_legendre\n",
    "scipy_quadrature = scipy.special.roots_legendre\n",
    "\n",
    "# compute_moments  = moment_laguerre\n",
    "# compute_jacobi_a = jacobi_a_laguerre\n",
    "# compute_jacobi_b = jacobi_b_laguerre\n",
    "# scipy_quadrature = scipy.special.roots_laguerre"
   ]
  },
  {
   "cell_type": "markdown",
   "metadata": {},
   "source": [
    "## I. Direct approach: Cholesky"
   ]
  },
  {
   "cell_type": "code",
   "execution_count": 8,
   "metadata": {},
   "outputs": [
    {
     "name": "stdout",
     "output_type": "stream",
     "text": [
      "Cholesky passed!\n",
      "\n",
      "Diagonal of Cholesky\n",
      "[1.         0.28867513 0.0745356  0.01889822 0.0047619  0.00119647]\n",
      "Extra-diagonal of Cholesky\n",
      "[0.5        0.28867513 0.1118034  0.03779645 0.01190476]\n",
      "\n",
      "Computed Jacobi coefficients:\n",
      "b:  [0.28867513 0.25819889 0.25354628 0.25197632]\n",
      "a:  [0.5 0.5 0.5 0.5 0.5]\n",
      "\n",
      "Theoretical Jacobi coefficients:\n",
      "b:  [0.28867513 0.25819889 0.25354628 0.25197632]\n",
      "a:  [0.5 0.5 0.5 0.5 0.5]\n",
      "\n"
     ]
    }
   ],
   "source": [
    "import freeDeconvolution\n",
    "\n",
    "# Form moment matrix\n",
    "moments_count = 5\n",
    "mom_array = compute_moments( 2*moments_count + 1)\n",
    "\n",
    "# Compute\n",
    "jacobi_a, jacobi_b = freeDeconvolution.oprl.jacobi_from_moments( mom_array )\n",
    "\n",
    "# Print Jacobi coefficients\n",
    "print( \"Computed Jacobi coefficients:\")\n",
    "print( \"b: \", jacobi_b )\n",
    "print( \"a: \", jacobi_a )\n",
    "print( \"\")\n",
    "\n",
    "#jacobi_b = compute_jacobi_b(mom_count-1)\n",
    "#jacobi_a = compute_jacobi_a(mom_count)\n",
    "print( \"Theoretical Jacobi coefficients:\")\n",
    "print( \"b: \", compute_jacobi_b(moments_count-1) )\n",
    "print( \"a: \", compute_jacobi_a(moments_count) )\n",
    "print( \"\")"
   ]
  },
  {
   "cell_type": "code",
   "execution_count": 9,
   "metadata": {},
   "outputs": [
    {
     "name": "stdout",
     "output_type": "stream",
     "text": [
      "Quadrature measure\n",
      "[0.95308992 0.76923466 0.5        0.04691008 0.23076534]\n",
      "[0.11846344 0.23931434 0.28444444 0.11846344 0.23931434]\n",
      "\n",
      "Ground truth\n",
      "[0.04691008 0.23076534 0.5        0.76923466 0.95308992]\n",
      "[0.11846344 0.23931434 0.28444444 0.23931434 0.11846344]\n"
     ]
    }
   ],
   "source": [
    "# Quadrature measure from our code\n",
    "print(\"Quadrature measure\")\n",
    "support, weight = freeDeconvolution.quadrature_from_jacobi( jacobi_a, jacobi_b)\n",
    "print( support )\n",
    "print( weight )\n",
    "# Compute weights via vandermonde (unstable)\n",
    "# vandermonde = np.vander( eigen ).T\n",
    "# weights = np.linalg.solve( vandermonde, mom_array[0:mom_count] )\n",
    "# print( \"Raw Weights: \")\n",
    "# print( weights)\n",
    "print(\"\")\n",
    "\n",
    "# Quadrature from scipy\n",
    "print( \"Ground truth\")\n",
    "import scipy\n",
    "points, weights, mass = scipy_quadrature( len(support), mu=True)\n",
    "if scipy_quadrature == scipy.special.roots_legendre:\n",
    "    points = (points+1)/2\n",
    "print( points )\n",
    "weights = weights/weights.sum()\n",
    "print( weights )"
   ]
  },
  {
   "cell_type": "code",
   "execution_count": null,
   "metadata": {},
   "outputs": [],
   "source": []
  },
  {
   "cell_type": "code",
   "execution_count": null,
   "metadata": {},
   "outputs": [],
   "source": []
  }
 ],
 "metadata": {
  "kernelspec": {
   "display_name": "Python 3.8.12 ('.venv_freeDeconvolution': venv)",
   "language": "python",
   "name": "python3"
  },
  "language_info": {
   "codemirror_mode": {
    "name": "ipython",
    "version": 3
   },
   "file_extension": ".py",
   "mimetype": "text/x-python",
   "name": "python",
   "nbconvert_exporter": "python",
   "pygments_lexer": "ipython3",
   "version": "3.8.12"
  },
  "vscode": {
   "interpreter": {
    "hash": "83ad3b51f5450210da1b9d18efb29269cf300f2a6c746cbd073f1c6cce1a6c0e"
   }
  }
 },
 "nbformat": 4,
 "nbformat_minor": 2
}
