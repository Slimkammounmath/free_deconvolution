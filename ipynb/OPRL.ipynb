{
 "cells": [
  {
   "cell_type": "code",
   "execution_count": null,
   "metadata": {},
   "outputs": [],
   "source": [
    "import numpy as np\n",
    "import scipy\n",
    "\n",
    "def moment_legendre(n):\n",
    "    return 1/(1+np.arange(n))\n",
    "\n",
    "def jacobi_a_legendre(n):\n",
    "    return 0.5*np.ones( (n,) )\n",
    "\n",
    "def jacobi_b_legendre(n):\n",
    "    k = 1.0*np.arange(1, n+1)\n",
    "    b = 1/( 4*(4-k**(-2)) )\n",
    "    #b = np.array( [1] + list( b ) )\n",
    "    return np.sqrt(b)\n",
    "\n",
    "def moment_laguerre(n):\n",
    "    k = 1.0*np.arange(0, n)\n",
    "    k[0] = 1.0\n",
    "    return np.cumprod(k)\n",
    "\n",
    "def jacobi_a_laguerre(n):\n",
    "    k = 1.0*np.arange(1, n+1)\n",
    "    return 2*k-1\n",
    "\n",
    "def jacobi_b_laguerre(n):\n",
    "    k = 1.0*np.arange(1, n+1)\n",
    "    return k\n"
   ]
  },
  {
   "cell_type": "code",
   "execution_count": null,
   "metadata": {},
   "outputs": [],
   "source": [
    "oprl_setup = 'legendre'\n",
    "\n",
    "if oprl_setup == 'legendre':\n",
    "    compute_moments  = moment_legendre\n",
    "    compute_jacobi_a = jacobi_a_legendre\n",
    "    compute_jacobi_b = jacobi_b_legendre\n",
    "    scipy_quadrature = scipy.special.roots_legendre\n",
    "elif oprl_setup == 'laguerre':\n",
    "    compute_moments  = moment_laguerre\n",
    "    compute_jacobi_a = jacobi_a_laguerre\n",
    "    compute_jacobi_b = jacobi_b_laguerre\n",
    "    scipy_quadrature = scipy.special.roots_laguerre"
   ]
  },
  {
   "cell_type": "markdown",
   "metadata": {},
   "source": [
    "# I. Direct approach: Cholesky"
   ]
  },
  {
   "cell_type": "code",
   "execution_count": null,
   "metadata": {},
   "outputs": [],
   "source": [
    "import freeDeconvolution"
   ]
  },
  {
   "cell_type": "code",
   "execution_count": null,
   "metadata": {},
   "outputs": [],
   "source": [
    "# Form moment matrix\n",
    "n = 2\n",
    "moments_count = 2*n+1\n",
    "mom_array = compute_moments( moments_count + 1)\n",
    "print( f'''Computed moments from 0 to 2n+1={len(mom_array)-1}''')\n",
    "\n",
    "# Compute\n",
    "#jacobi_a, jacobi_b = freeDeconvolution.oprl.jacobi_from_moments( mom_array )\n",
    "jacobi_a, jacobi_b = freeDeconvolution.jacobi_from_moments( mom_array )\n",
    "\n",
    "# Print Jacobi coefficients\n",
    "print( \"Computed Jacobi coefficients:\")\n",
    "print( \"b: \", jacobi_b )\n",
    "print( \"a: \", jacobi_a )\n",
    "print( \"\")\n",
    "\n",
    "# Given n moments\n",
    "jacobi_dim = len(jacobi_a)\n",
    "print( \"Theoretical Jacobi coefficients:\")\n",
    "print( \"b: \", compute_jacobi_b(jacobi_dim-1) )\n",
    "print( \"a: \", compute_jacobi_a(jacobi_dim) )\n",
    "print( \"\")"
   ]
  },
  {
   "cell_type": "code",
   "execution_count": null,
   "metadata": {},
   "outputs": [],
   "source": [
    "# Quadrature measure from our code\n",
    "print(\"Quadrature measure\")\n",
    "support, weights = freeDeconvolution.quadrature_from_jacobi( jacobi_a, jacobi_b)\n",
    "print( support )\n",
    "print( weights )\n",
    "# Compute weights via vandermonde (unstable)\n",
    "# vandermonde = np.vander( eigen ).T\n",
    "# weights = np.linalg.solve( vandermonde, mom_array[0:mom_count] )\n",
    "# print( \"Raw Weights: \")\n",
    "# print( weights)\n",
    "print(\"\")\n",
    "\n",
    "# Quadrature from scipy\n",
    "print( \"Ground truth\")\n",
    "import scipy\n",
    "points, weights, mass = scipy_quadrature( len(support), mu=True)\n",
    "if scipy_quadrature == scipy.special.roots_legendre:\n",
    "    points = (points+1)/2\n",
    "print( points )\n",
    "weights = weights/weights.sum()\n",
    "print( weights )"
   ]
  },
  {
   "cell_type": "markdown",
   "metadata": {},
   "source": [
    "# II. Iterative approach: Three term recurrence\n",
    "\n",
    "NOT WORKING YET\n",
    "\n",
    "In this approach, we avoid computing moments at all cost! Perhaps this has better stability\n",
    "\n",
    "For the monic polynomials $P_n$:\n",
    "$$ X P_n = P_{n+1} + a_n P_n + b_{n-1}^2 P_{n-1} $$\n",
    "\n",
    "From that one deduces (after some work) that:\n",
    "$$ \\| P_n \\| = b_1 \\dots b_{n-1}, $$\n",
    "which yields the recurrence for orthonormal polynomials $p_n$:\n",
    "$$ X p_n = b_n p_{n+1} + a_n p_n + b_{n-1} p_{n-1} $$"
   ]
  },
  {
   "cell_type": "code",
   "execution_count": null,
   "metadata": {},
   "outputs": [],
   "source": [
    "def polynomial_eval( coeffs, points):\n",
    "    m = len(coeffs)\n",
    "    powers = np.arange( 0, m, 1)\n",
    "    vander = points[..., None]**powers[None, ...]\n",
    "    return np.dot(vander, coeffs)\n",
    "\n",
    "# Test\n",
    "points = np.arange( 0, 5)\n",
    "coefficients = [1, 0]\n",
    "print( polynomial_eval(coefficients, points) )\n",
    "coefficients = [1, 1]\n",
    "print( polynomial_eval(coefficients, points) )\n"
   ]
  },
  {
   "cell_type": "code",
   "execution_count": null,
   "metadata": {},
   "outputs": [],
   "source": [
    "# Compute OPRL\n",
    "polynomials = []\n",
    "norms = []\n",
    "\n",
    "# First in the iteration: P_0 = 1\n",
    "polynomials.append( [1] )\n",
    "norms.append( 1 )\n",
    "\n",
    "# Second in the iteration: P_1 = X-m_1\n",
    "m1 = np.real( cauchy_integral_g_deconv( z_array ) )\n",
    "polynomials.append( [-m1, 1] )\n",
    "P1 = np.array( polynomials[-1] )\n",
    "values_P1 = polynomial_eval(P1, z_array)\n",
    "norm2_P1 = np.real( cauchy_integral_g_deconv( values_P1*values_P1 ) )\n",
    "norm_P1  = np.sqrt(norm2_P1)\n",
    "assert( norm2_P1 > 0)\n",
    "norms.append( norm_P1 )\n",
    "\n",
    "# Apply three term recurrence\n",
    "OPRL_order = 10\n",
    "jacobi_a = [ m1 ]\n",
    "jacobi_b = [ ]\n",
    "for n in np.arange(1, OPRL_order, 1):\n",
    "    Pn  = polynomials[-1] + [0.0]\n",
    "    XPn = [0.0] + polynomials[-1]\n",
    "    Qn  = polynomials[-2] + [0.0, 0.0] # Short for P_{n-1}\n",
    "    Pn, XPn, Qn = [ np.array(x) for x in [Pn, XPn, Qn] ]\n",
    "    # Values along path\n",
    "    values_Pn  = polynomial_eval(  Pn, z_array)\n",
    "    values_XPn = z_array*values_Pn\n",
    "    values_Qn  = polynomial_eval(  Qn, z_array)\n",
    "    # Norms\n",
    "    norm_Pn = norms[-1]\n",
    "    norm_Qn = norms[-2]\n",
    "    # Compte a_n and b_{n-1}\n",
    "    a  = np.real( cauchy_integral_g_deconv( values_XPn*values_Pn ) )/( norm_Pn)\n",
    "    b2 = np.real( cauchy_integral_g_deconv( values_XPn*values_Qn ) )/( norm_Qn)\n",
    "    print( \"n: \", n+1)\n",
    "    print( \"a: \", a)\n",
    "    print( \"b2: \", b2)\n",
    "    print( \"\")\n",
    "    if b2 < 0:\n",
    "        print( \"Defaulting at n =\", n+1)\n",
    "        print( \"\")\n",
    "        OPRL_order = n\n",
    "        #jacobi_a.append( a )\n",
    "        break\n",
    "    #\n",
    "    b = np.sqrt(b2)\n",
    "    jacobi_a.append( a )\n",
    "    jacobi_b.append( b )\n",
    "    norms.append( norm_Pn*b )\n",
    "    # Three term recurrence\n",
    "    new_P = XPn - a*Pn - b*b*Qn\n",
    "    polynomials.append( list(new_P) )\n",
    "# end for\n",
    "print( \"Jacobi coefficients:\")\n",
    "print( jacobi_a )\n",
    "print( jacobi_b )\n",
    "print( \"\")\n",
    "print( \"Norms:\")\n",
    "print( norms )"
   ]
  }
 ],
 "metadata": {
  "kernelspec": {
   "display_name": "Python 3.8.12 ('.venv_freeDeconvolution': venv)",
   "language": "python",
   "name": "python3"
  },
  "language_info": {
   "codemirror_mode": {
    "name": "ipython",
    "version": 3
   },
   "file_extension": ".py",
   "mimetype": "text/x-python",
   "name": "python",
   "nbconvert_exporter": "python",
   "pygments_lexer": "ipython3",
   "version": "3.8.12"
  },
  "vscode": {
   "interpreter": {
    "hash": "83ad3b51f5450210da1b9d18efb29269cf300f2a6c746cbd073f1c6cce1a6c0e"
   }
  }
 },
 "nbformat": 4,
 "nbformat_minor": 2
}
